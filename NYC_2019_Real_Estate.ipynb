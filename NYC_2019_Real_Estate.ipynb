{
 "cells": [
  {
   "cell_type": "code",
   "execution_count": 1,
   "metadata": {},
   "outputs": [],
   "source": [
    "import pandas as pd\n",
    "import numpy as np\n",
    "import seaborn as sns\n",
    "import matplotlib.pyplot as plt\n",
    "import plotly.express as px\n",
    "pd.set_option('display.max_columns', None)"
   ]
  },
  {
   "cell_type": "markdown",
   "metadata": {},
   "source": [
    "https://www1.nyc.gov/site/finance/taxes/property-annualized-sales-update.page"
   ]
  },
  {
   "cell_type": "code",
   "execution_count": 2,
   "metadata": {},
   "outputs": [],
   "source": [
    "bronx = pd.read_csv(\"C:\\\\Users\\\\mukta\\\\Desktop\\\\NYC_real_estate\\\\2019_BRONX.csv\")\n",
    "brooklyn = pd.read_csv(\"C:\\\\Users\\\\mukta\\\\Desktop\\\\NYC_real_estate\\\\2019_BROOKLYN.csv\")\n",
    "manhhatan = pd.read_csv(\"C:\\\\Users\\\\mukta\\\\Desktop\\\\NYC_real_estate\\\\2019_MANHATTAN.csv\")\n",
    "queens = pd.read_csv(\"C:\\\\Users\\\\mukta\\\\Desktop\\\\NYC_real_estate\\\\2019_QUEENS.csv\")\n",
    "staten_island = pd.read_csv(\"C:\\\\Users\\\\mukta\\\\Desktop\\\\NYC_real_estate\\\\2019_STATEN_ISLAND.csv\")"
   ]
  },
  {
   "cell_type": "code",
   "execution_count": 3,
   "metadata": {},
   "outputs": [],
   "source": [
    "borough = [bronx,brooklyn,manhhatan,queens,staten_island]"
   ]
  },
  {
   "cell_type": "code",
   "execution_count": 4,
   "metadata": {},
   "outputs": [
    {
     "data": {
      "text/html": [
       "<div>\n",
       "<style scoped>\n",
       "    .dataframe tbody tr th:only-of-type {\n",
       "        vertical-align: middle;\n",
       "    }\n",
       "\n",
       "    .dataframe tbody tr th {\n",
       "        vertical-align: top;\n",
       "    }\n",
       "\n",
       "    .dataframe thead th {\n",
       "        text-align: right;\n",
       "    }\n",
       "</style>\n",
       "<table border=\"1\" class=\"dataframe\">\n",
       "  <thead>\n",
       "    <tr style=\"text-align: right;\">\n",
       "      <th></th>\n",
       "      <th>BOROUGH\\n</th>\n",
       "      <th>NEIGHBORHOOD\\n</th>\n",
       "      <th>BUILDING CLASS CATEGORY\\n</th>\n",
       "      <th>TAX CLASS AS OF FINAL ROLL 18/19</th>\n",
       "      <th>BLOCK\\n</th>\n",
       "      <th>LOT\\n</th>\n",
       "      <th>EASE-MENT\\n</th>\n",
       "      <th>BUILDING CLASS AS OF FINAL ROLL 18/19</th>\n",
       "      <th>ADDRESS\\n</th>\n",
       "      <th>APARTMENT NUMBER\\n</th>\n",
       "      <th>ZIP CODE\\n</th>\n",
       "      <th>RESIDENTIAL UNITS\\n</th>\n",
       "      <th>COMMERCIAL UNITS\\n</th>\n",
       "      <th>TOTAL UNITS\\n</th>\n",
       "      <th>LAND SQUARE FEET\\n</th>\n",
       "      <th>GROSS SQUARE FEET\\n</th>\n",
       "      <th>YEAR BUILT\\n</th>\n",
       "      <th>TAX CLASS AT TIME OF SALE\\n</th>\n",
       "      <th>BUILDING CLASS AT TIME OF SALE\\n</th>\n",
       "      <th>SALE PRICE\\n</th>\n",
       "      <th>SALE DATE\\n</th>\n",
       "    </tr>\n",
       "  </thead>\n",
       "  <tbody>\n",
       "    <tr>\n",
       "      <th>0</th>\n",
       "      <td>2.0</td>\n",
       "      <td>BATHGATE</td>\n",
       "      <td>01 ONE FAMILY DWELLINGS</td>\n",
       "      <td>1</td>\n",
       "      <td>3030.0</td>\n",
       "      <td>70.0</td>\n",
       "      <td>NaN</td>\n",
       "      <td>A1</td>\n",
       "      <td>4445 PARK AVENUE</td>\n",
       "      <td>NaN</td>\n",
       "      <td>10457.0</td>\n",
       "      <td>1.0</td>\n",
       "      <td>0.0</td>\n",
       "      <td>1.0</td>\n",
       "      <td>1,694</td>\n",
       "      <td>1,497</td>\n",
       "      <td>1899.0</td>\n",
       "      <td>1.0</td>\n",
       "      <td>A1</td>\n",
       "      <td>388,500</td>\n",
       "      <td>7/23/2019</td>\n",
       "    </tr>\n",
       "    <tr>\n",
       "      <th>1</th>\n",
       "      <td>2.0</td>\n",
       "      <td>BATHGATE</td>\n",
       "      <td>01 ONE FAMILY DWELLINGS</td>\n",
       "      <td>1</td>\n",
       "      <td>3039.0</td>\n",
       "      <td>29.0</td>\n",
       "      <td>NaN</td>\n",
       "      <td>A9</td>\n",
       "      <td>2327 WASHINGTON AVENUE</td>\n",
       "      <td>NaN</td>\n",
       "      <td>10458.0</td>\n",
       "      <td>1.0</td>\n",
       "      <td>0.0</td>\n",
       "      <td>1.0</td>\n",
       "      <td>1,095</td>\n",
       "      <td>1,260</td>\n",
       "      <td>1910.0</td>\n",
       "      <td>1.0</td>\n",
       "      <td>A9</td>\n",
       "      <td>110,000</td>\n",
       "      <td>12/6/2019</td>\n",
       "    </tr>\n",
       "    <tr>\n",
       "      <th>2</th>\n",
       "      <td>2.0</td>\n",
       "      <td>BATHGATE</td>\n",
       "      <td>01 ONE FAMILY DWELLINGS</td>\n",
       "      <td>1</td>\n",
       "      <td>3043.0</td>\n",
       "      <td>55.0</td>\n",
       "      <td>NaN</td>\n",
       "      <td>A1</td>\n",
       "      <td>1948 BATHGATE AVENUE</td>\n",
       "      <td>NaN</td>\n",
       "      <td>10457.0</td>\n",
       "      <td>1.0</td>\n",
       "      <td>0.0</td>\n",
       "      <td>1.0</td>\n",
       "      <td>2,356</td>\n",
       "      <td>2,047</td>\n",
       "      <td>1901.0</td>\n",
       "      <td>1.0</td>\n",
       "      <td>A1</td>\n",
       "      <td>470,000</td>\n",
       "      <td>3/8/2019</td>\n",
       "    </tr>\n",
       "    <tr>\n",
       "      <th>3</th>\n",
       "      <td>2.0</td>\n",
       "      <td>BATHGATE</td>\n",
       "      <td>01 ONE FAMILY DWELLINGS</td>\n",
       "      <td>1</td>\n",
       "      <td>3046.0</td>\n",
       "      <td>39.0</td>\n",
       "      <td>NaN</td>\n",
       "      <td>A1</td>\n",
       "      <td>2075 BATHGATE AVENUE</td>\n",
       "      <td>NaN</td>\n",
       "      <td>10457.0</td>\n",
       "      <td>1.0</td>\n",
       "      <td>0.0</td>\n",
       "      <td>1.0</td>\n",
       "      <td>1,986</td>\n",
       "      <td>1,344</td>\n",
       "      <td>1899.0</td>\n",
       "      <td>1.0</td>\n",
       "      <td>A1</td>\n",
       "      <td>420,000</td>\n",
       "      <td>5/24/2019</td>\n",
       "    </tr>\n",
       "    <tr>\n",
       "      <th>4</th>\n",
       "      <td>2.0</td>\n",
       "      <td>BATHGATE</td>\n",
       "      <td>02 TWO FAMILY DWELLINGS</td>\n",
       "      <td>1</td>\n",
       "      <td>2912.0</td>\n",
       "      <td>137.0</td>\n",
       "      <td>NaN</td>\n",
       "      <td>B1</td>\n",
       "      <td>496 CLAREMONT PARKWAY</td>\n",
       "      <td>NaN</td>\n",
       "      <td>10457.0</td>\n",
       "      <td>2.0</td>\n",
       "      <td>0.0</td>\n",
       "      <td>2.0</td>\n",
       "      <td>2,000</td>\n",
       "      <td>2,400</td>\n",
       "      <td>1993.0</td>\n",
       "      <td>1.0</td>\n",
       "      <td>B1</td>\n",
       "      <td>0</td>\n",
       "      <td>6/12/2019</td>\n",
       "    </tr>\n",
       "  </tbody>\n",
       "</table>\n",
       "</div>"
      ],
      "text/plain": [
       "   BOROUGH\\n NEIGHBORHOOD\\n BUILDING CLASS CATEGORY\\n  \\\n",
       "0        2.0       BATHGATE   01 ONE FAMILY DWELLINGS   \n",
       "1        2.0       BATHGATE   01 ONE FAMILY DWELLINGS   \n",
       "2        2.0       BATHGATE   01 ONE FAMILY DWELLINGS   \n",
       "3        2.0       BATHGATE   01 ONE FAMILY DWELLINGS   \n",
       "4        2.0       BATHGATE   02 TWO FAMILY DWELLINGS   \n",
       "\n",
       "  TAX CLASS AS OF FINAL ROLL 18/19  BLOCK\\n  LOT\\n  EASE-MENT\\n  \\\n",
       "0                                1   3030.0   70.0          NaN   \n",
       "1                                1   3039.0   29.0          NaN   \n",
       "2                                1   3043.0   55.0          NaN   \n",
       "3                                1   3046.0   39.0          NaN   \n",
       "4                                1   2912.0  137.0          NaN   \n",
       "\n",
       "  BUILDING CLASS AS OF FINAL ROLL 18/19               ADDRESS\\n  \\\n",
       "0                                    A1        4445 PARK AVENUE   \n",
       "1                                    A9  2327 WASHINGTON AVENUE   \n",
       "2                                    A1    1948 BATHGATE AVENUE   \n",
       "3                                    A1    2075 BATHGATE AVENUE   \n",
       "4                                    B1   496 CLAREMONT PARKWAY   \n",
       "\n",
       "  APARTMENT NUMBER\\n  ZIP CODE\\n  RESIDENTIAL UNITS\\n  COMMERCIAL UNITS\\n  \\\n",
       "0                NaN     10457.0                  1.0                 0.0   \n",
       "1                NaN     10458.0                  1.0                 0.0   \n",
       "2                NaN     10457.0                  1.0                 0.0   \n",
       "3                NaN     10457.0                  1.0                 0.0   \n",
       "4                NaN     10457.0                  2.0                 0.0   \n",
       "\n",
       "   TOTAL UNITS\\n LAND SQUARE FEET\\n GROSS SQUARE FEET\\n  YEAR BUILT\\n  \\\n",
       "0            1.0              1,694               1,497        1899.0   \n",
       "1            1.0              1,095               1,260        1910.0   \n",
       "2            1.0              2,356               2,047        1901.0   \n",
       "3            1.0              1,986               1,344        1899.0   \n",
       "4            2.0              2,000               2,400        1993.0   \n",
       "\n",
       "   TAX CLASS AT TIME OF SALE\\n BUILDING CLASS AT TIME OF SALE\\n SALE PRICE\\n  \\\n",
       "0                          1.0                               A1      388,500   \n",
       "1                          1.0                               A9      110,000   \n",
       "2                          1.0                               A1      470,000   \n",
       "3                          1.0                               A1      420,000   \n",
       "4                          1.0                               B1            0   \n",
       "\n",
       "  SALE DATE\\n  \n",
       "0   7/23/2019  \n",
       "1   12/6/2019  \n",
       "2    3/8/2019  \n",
       "3   5/24/2019  \n",
       "4   6/12/2019  "
      ]
     },
     "execution_count": 4,
     "metadata": {},
     "output_type": "execute_result"
    }
   ],
   "source": [
    "df = pd.concat(borough)\n",
    "df.head()"
   ]
  },
  {
   "cell_type": "code",
   "execution_count": 5,
   "metadata": {},
   "outputs": [],
   "source": [
    "#Renaming all the columns\n",
    "df = df.rename(columns={\"BOROUGH\\n\":\"BOROUGH\",\"NEIGHBORHOOD\\n\":\"NEIGHBORHOOD\",\"BUILDING CLASS CATEGORY\\n\":\"BUILDING CLASS CATEGORY\",\"BLOCK\\n\":\"BLOCK\",\"LOT\\n\":\"LOT\",\"EASE-MENT\\n\":\"EASEMENT\",\"ADDRESS\\n\":\"ADDRESS\",\"APARTMENT NUMBER\\n\":\"APARTMENT NUMBER\",\"ZIP CODE\\n\":\"ZIP CODE\",\"RESIDENTIAL UNITS\\n\":\"RESIDENTIAL UNITS\",\"COMMERCIAL UNITS\\n\":\"COMMERCIAL UNITS\",\"TOTAL UNITS\\n\":\"TOTAL UNITS\",\"LAND SQUARE FEET\\n\":\"LAND SQUARE FEET\",\"GROSS SQUARE FEET\\n\":\"GROSS SQUARE FEET\",\"YEAR BUILT\\n\":\"YEAR BUILT\",\"TAX CLASS AT TIME OF SALE\\n\":\"TAX CLASS AT TIME OF SALE\",\"BUILDING CLASS AT TIME OF SALE\\n\":\"BUILDING CLASS AT TIME OF SALE\",\"SALE PRICE\\n\":\"SALE PRICE\",\"SALE DATE\\n\":\"SALE DATE\"})"
   ]
  },
  {
   "cell_type": "code",
   "execution_count": 6,
   "metadata": {},
   "outputs": [
    {
     "data": {
      "text/html": [
       "<div>\n",
       "<style scoped>\n",
       "    .dataframe tbody tr th:only-of-type {\n",
       "        vertical-align: middle;\n",
       "    }\n",
       "\n",
       "    .dataframe tbody tr th {\n",
       "        vertical-align: top;\n",
       "    }\n",
       "\n",
       "    .dataframe thead th {\n",
       "        text-align: right;\n",
       "    }\n",
       "</style>\n",
       "<table border=\"1\" class=\"dataframe\">\n",
       "  <thead>\n",
       "    <tr style=\"text-align: right;\">\n",
       "      <th></th>\n",
       "      <th>BOROUGH</th>\n",
       "      <th>NEIGHBORHOOD</th>\n",
       "      <th>BUILDING CLASS CATEGORY</th>\n",
       "      <th>TAX CLASS AS OF FINAL ROLL 18/19</th>\n",
       "      <th>BLOCK</th>\n",
       "      <th>LOT</th>\n",
       "      <th>EASEMENT</th>\n",
       "      <th>BUILDING CLASS AS OF FINAL ROLL 18/19</th>\n",
       "      <th>ADDRESS</th>\n",
       "      <th>APARTMENT NUMBER</th>\n",
       "      <th>ZIP CODE</th>\n",
       "      <th>RESIDENTIAL UNITS</th>\n",
       "      <th>COMMERCIAL UNITS</th>\n",
       "      <th>TOTAL UNITS</th>\n",
       "      <th>LAND SQUARE FEET</th>\n",
       "      <th>GROSS SQUARE FEET</th>\n",
       "      <th>YEAR BUILT</th>\n",
       "      <th>TAX CLASS AT TIME OF SALE</th>\n",
       "      <th>BUILDING CLASS AT TIME OF SALE</th>\n",
       "      <th>SALE PRICE</th>\n",
       "      <th>SALE DATE</th>\n",
       "    </tr>\n",
       "  </thead>\n",
       "  <tbody>\n",
       "    <tr>\n",
       "      <th>0</th>\n",
       "      <td>2.0</td>\n",
       "      <td>BATHGATE</td>\n",
       "      <td>01 ONE FAMILY DWELLINGS</td>\n",
       "      <td>1</td>\n",
       "      <td>3030.0</td>\n",
       "      <td>70.0</td>\n",
       "      <td>NaN</td>\n",
       "      <td>A1</td>\n",
       "      <td>4445 PARK AVENUE</td>\n",
       "      <td>NaN</td>\n",
       "      <td>10457.0</td>\n",
       "      <td>1.0</td>\n",
       "      <td>0.0</td>\n",
       "      <td>1.0</td>\n",
       "      <td>1,694</td>\n",
       "      <td>1,497</td>\n",
       "      <td>1899.0</td>\n",
       "      <td>1.0</td>\n",
       "      <td>A1</td>\n",
       "      <td>388,500</td>\n",
       "      <td>7/23/2019</td>\n",
       "    </tr>\n",
       "    <tr>\n",
       "      <th>1</th>\n",
       "      <td>2.0</td>\n",
       "      <td>BATHGATE</td>\n",
       "      <td>01 ONE FAMILY DWELLINGS</td>\n",
       "      <td>1</td>\n",
       "      <td>3039.0</td>\n",
       "      <td>29.0</td>\n",
       "      <td>NaN</td>\n",
       "      <td>A9</td>\n",
       "      <td>2327 WASHINGTON AVENUE</td>\n",
       "      <td>NaN</td>\n",
       "      <td>10458.0</td>\n",
       "      <td>1.0</td>\n",
       "      <td>0.0</td>\n",
       "      <td>1.0</td>\n",
       "      <td>1,095</td>\n",
       "      <td>1,260</td>\n",
       "      <td>1910.0</td>\n",
       "      <td>1.0</td>\n",
       "      <td>A9</td>\n",
       "      <td>110,000</td>\n",
       "      <td>12/6/2019</td>\n",
       "    </tr>\n",
       "    <tr>\n",
       "      <th>2</th>\n",
       "      <td>2.0</td>\n",
       "      <td>BATHGATE</td>\n",
       "      <td>01 ONE FAMILY DWELLINGS</td>\n",
       "      <td>1</td>\n",
       "      <td>3043.0</td>\n",
       "      <td>55.0</td>\n",
       "      <td>NaN</td>\n",
       "      <td>A1</td>\n",
       "      <td>1948 BATHGATE AVENUE</td>\n",
       "      <td>NaN</td>\n",
       "      <td>10457.0</td>\n",
       "      <td>1.0</td>\n",
       "      <td>0.0</td>\n",
       "      <td>1.0</td>\n",
       "      <td>2,356</td>\n",
       "      <td>2,047</td>\n",
       "      <td>1901.0</td>\n",
       "      <td>1.0</td>\n",
       "      <td>A1</td>\n",
       "      <td>470,000</td>\n",
       "      <td>3/8/2019</td>\n",
       "    </tr>\n",
       "    <tr>\n",
       "      <th>3</th>\n",
       "      <td>2.0</td>\n",
       "      <td>BATHGATE</td>\n",
       "      <td>01 ONE FAMILY DWELLINGS</td>\n",
       "      <td>1</td>\n",
       "      <td>3046.0</td>\n",
       "      <td>39.0</td>\n",
       "      <td>NaN</td>\n",
       "      <td>A1</td>\n",
       "      <td>2075 BATHGATE AVENUE</td>\n",
       "      <td>NaN</td>\n",
       "      <td>10457.0</td>\n",
       "      <td>1.0</td>\n",
       "      <td>0.0</td>\n",
       "      <td>1.0</td>\n",
       "      <td>1,986</td>\n",
       "      <td>1,344</td>\n",
       "      <td>1899.0</td>\n",
       "      <td>1.0</td>\n",
       "      <td>A1</td>\n",
       "      <td>420,000</td>\n",
       "      <td>5/24/2019</td>\n",
       "    </tr>\n",
       "    <tr>\n",
       "      <th>4</th>\n",
       "      <td>2.0</td>\n",
       "      <td>BATHGATE</td>\n",
       "      <td>02 TWO FAMILY DWELLINGS</td>\n",
       "      <td>1</td>\n",
       "      <td>2912.0</td>\n",
       "      <td>137.0</td>\n",
       "      <td>NaN</td>\n",
       "      <td>B1</td>\n",
       "      <td>496 CLAREMONT PARKWAY</td>\n",
       "      <td>NaN</td>\n",
       "      <td>10457.0</td>\n",
       "      <td>2.0</td>\n",
       "      <td>0.0</td>\n",
       "      <td>2.0</td>\n",
       "      <td>2,000</td>\n",
       "      <td>2,400</td>\n",
       "      <td>1993.0</td>\n",
       "      <td>1.0</td>\n",
       "      <td>B1</td>\n",
       "      <td>0</td>\n",
       "      <td>6/12/2019</td>\n",
       "    </tr>\n",
       "  </tbody>\n",
       "</table>\n",
       "</div>"
      ],
      "text/plain": [
       "   BOROUGH NEIGHBORHOOD  BUILDING CLASS CATEGORY  \\\n",
       "0      2.0     BATHGATE  01 ONE FAMILY DWELLINGS   \n",
       "1      2.0     BATHGATE  01 ONE FAMILY DWELLINGS   \n",
       "2      2.0     BATHGATE  01 ONE FAMILY DWELLINGS   \n",
       "3      2.0     BATHGATE  01 ONE FAMILY DWELLINGS   \n",
       "4      2.0     BATHGATE  02 TWO FAMILY DWELLINGS   \n",
       "\n",
       "  TAX CLASS AS OF FINAL ROLL 18/19   BLOCK    LOT  EASEMENT  \\\n",
       "0                                1  3030.0   70.0       NaN   \n",
       "1                                1  3039.0   29.0       NaN   \n",
       "2                                1  3043.0   55.0       NaN   \n",
       "3                                1  3046.0   39.0       NaN   \n",
       "4                                1  2912.0  137.0       NaN   \n",
       "\n",
       "  BUILDING CLASS AS OF FINAL ROLL 18/19                 ADDRESS  \\\n",
       "0                                    A1        4445 PARK AVENUE   \n",
       "1                                    A9  2327 WASHINGTON AVENUE   \n",
       "2                                    A1    1948 BATHGATE AVENUE   \n",
       "3                                    A1    2075 BATHGATE AVENUE   \n",
       "4                                    B1   496 CLAREMONT PARKWAY   \n",
       "\n",
       "  APARTMENT NUMBER  ZIP CODE  RESIDENTIAL UNITS  COMMERCIAL UNITS  \\\n",
       "0              NaN   10457.0                1.0               0.0   \n",
       "1              NaN   10458.0                1.0               0.0   \n",
       "2              NaN   10457.0                1.0               0.0   \n",
       "3              NaN   10457.0                1.0               0.0   \n",
       "4              NaN   10457.0                2.0               0.0   \n",
       "\n",
       "   TOTAL UNITS LAND SQUARE FEET GROSS SQUARE FEET  YEAR BUILT  \\\n",
       "0          1.0            1,694             1,497      1899.0   \n",
       "1          1.0            1,095             1,260      1910.0   \n",
       "2          1.0            2,356             2,047      1901.0   \n",
       "3          1.0            1,986             1,344      1899.0   \n",
       "4          2.0            2,000             2,400      1993.0   \n",
       "\n",
       "   TAX CLASS AT TIME OF SALE BUILDING CLASS AT TIME OF SALE SALE PRICE  \\\n",
       "0                        1.0                             A1    388,500   \n",
       "1                        1.0                             A9    110,000   \n",
       "2                        1.0                             A1    470,000   \n",
       "3                        1.0                             A1    420,000   \n",
       "4                        1.0                             B1          0   \n",
       "\n",
       "   SALE DATE  \n",
       "0  7/23/2019  \n",
       "1  12/6/2019  \n",
       "2   3/8/2019  \n",
       "3  5/24/2019  \n",
       "4  6/12/2019  "
      ]
     },
     "execution_count": 6,
     "metadata": {},
     "output_type": "execute_result"
    }
   ],
   "source": [
    "df.head()"
   ]
  },
  {
   "cell_type": "code",
   "execution_count": 7,
   "metadata": {},
   "outputs": [
    {
     "data": {
      "text/plain": [
       "(97412, 21)"
      ]
     },
     "execution_count": 7,
     "metadata": {},
     "output_type": "execute_result"
    }
   ],
   "source": [
    "#Shows the numbers of rows and columns\n",
    "df.shape"
   ]
  },
  {
   "cell_type": "code",
   "execution_count": 8,
   "metadata": {},
   "outputs": [
    {
     "data": {
      "text/html": [
       "<div>\n",
       "<style scoped>\n",
       "    .dataframe tbody tr th:only-of-type {\n",
       "        vertical-align: middle;\n",
       "    }\n",
       "\n",
       "    .dataframe tbody tr th {\n",
       "        vertical-align: top;\n",
       "    }\n",
       "\n",
       "    .dataframe thead th {\n",
       "        text-align: right;\n",
       "    }\n",
       "</style>\n",
       "<table border=\"1\" class=\"dataframe\">\n",
       "  <thead>\n",
       "    <tr style=\"text-align: right;\">\n",
       "      <th></th>\n",
       "      <th>BOROUGH</th>\n",
       "      <th>NEIGHBORHOOD</th>\n",
       "      <th>BUILDING CLASS CATEGORY</th>\n",
       "      <th>TAX CLASS AS OF FINAL ROLL 18/19</th>\n",
       "      <th>BLOCK</th>\n",
       "      <th>LOT</th>\n",
       "      <th>BUILDING CLASS AS OF FINAL ROLL 18/19</th>\n",
       "      <th>ADDRESS</th>\n",
       "      <th>APARTMENT NUMBER</th>\n",
       "      <th>ZIP CODE</th>\n",
       "      <th>RESIDENTIAL UNITS</th>\n",
       "      <th>COMMERCIAL UNITS</th>\n",
       "      <th>TOTAL UNITS</th>\n",
       "      <th>LAND SQUARE FEET</th>\n",
       "      <th>GROSS SQUARE FEET</th>\n",
       "      <th>YEAR BUILT</th>\n",
       "      <th>TAX CLASS AT TIME OF SALE</th>\n",
       "      <th>BUILDING CLASS AT TIME OF SALE</th>\n",
       "      <th>SALE PRICE</th>\n",
       "      <th>SALE DATE</th>\n",
       "    </tr>\n",
       "  </thead>\n",
       "  <tbody>\n",
       "    <tr>\n",
       "      <th>0</th>\n",
       "      <td>2.0</td>\n",
       "      <td>BATHGATE</td>\n",
       "      <td>01 ONE FAMILY DWELLINGS</td>\n",
       "      <td>1</td>\n",
       "      <td>3030.0</td>\n",
       "      <td>70.0</td>\n",
       "      <td>A1</td>\n",
       "      <td>4445 PARK AVENUE</td>\n",
       "      <td>NaN</td>\n",
       "      <td>10457.0</td>\n",
       "      <td>1.0</td>\n",
       "      <td>0.0</td>\n",
       "      <td>1.0</td>\n",
       "      <td>1,694</td>\n",
       "      <td>1,497</td>\n",
       "      <td>1899.0</td>\n",
       "      <td>1.0</td>\n",
       "      <td>A1</td>\n",
       "      <td>388,500</td>\n",
       "      <td>7/23/2019</td>\n",
       "    </tr>\n",
       "    <tr>\n",
       "      <th>1</th>\n",
       "      <td>2.0</td>\n",
       "      <td>BATHGATE</td>\n",
       "      <td>01 ONE FAMILY DWELLINGS</td>\n",
       "      <td>1</td>\n",
       "      <td>3039.0</td>\n",
       "      <td>29.0</td>\n",
       "      <td>A9</td>\n",
       "      <td>2327 WASHINGTON AVENUE</td>\n",
       "      <td>NaN</td>\n",
       "      <td>10458.0</td>\n",
       "      <td>1.0</td>\n",
       "      <td>0.0</td>\n",
       "      <td>1.0</td>\n",
       "      <td>1,095</td>\n",
       "      <td>1,260</td>\n",
       "      <td>1910.0</td>\n",
       "      <td>1.0</td>\n",
       "      <td>A9</td>\n",
       "      <td>110,000</td>\n",
       "      <td>12/6/2019</td>\n",
       "    </tr>\n",
       "    <tr>\n",
       "      <th>2</th>\n",
       "      <td>2.0</td>\n",
       "      <td>BATHGATE</td>\n",
       "      <td>01 ONE FAMILY DWELLINGS</td>\n",
       "      <td>1</td>\n",
       "      <td>3043.0</td>\n",
       "      <td>55.0</td>\n",
       "      <td>A1</td>\n",
       "      <td>1948 BATHGATE AVENUE</td>\n",
       "      <td>NaN</td>\n",
       "      <td>10457.0</td>\n",
       "      <td>1.0</td>\n",
       "      <td>0.0</td>\n",
       "      <td>1.0</td>\n",
       "      <td>2,356</td>\n",
       "      <td>2,047</td>\n",
       "      <td>1901.0</td>\n",
       "      <td>1.0</td>\n",
       "      <td>A1</td>\n",
       "      <td>470,000</td>\n",
       "      <td>3/8/2019</td>\n",
       "    </tr>\n",
       "    <tr>\n",
       "      <th>3</th>\n",
       "      <td>2.0</td>\n",
       "      <td>BATHGATE</td>\n",
       "      <td>01 ONE FAMILY DWELLINGS</td>\n",
       "      <td>1</td>\n",
       "      <td>3046.0</td>\n",
       "      <td>39.0</td>\n",
       "      <td>A1</td>\n",
       "      <td>2075 BATHGATE AVENUE</td>\n",
       "      <td>NaN</td>\n",
       "      <td>10457.0</td>\n",
       "      <td>1.0</td>\n",
       "      <td>0.0</td>\n",
       "      <td>1.0</td>\n",
       "      <td>1,986</td>\n",
       "      <td>1,344</td>\n",
       "      <td>1899.0</td>\n",
       "      <td>1.0</td>\n",
       "      <td>A1</td>\n",
       "      <td>420,000</td>\n",
       "      <td>5/24/2019</td>\n",
       "    </tr>\n",
       "    <tr>\n",
       "      <th>4</th>\n",
       "      <td>2.0</td>\n",
       "      <td>BATHGATE</td>\n",
       "      <td>02 TWO FAMILY DWELLINGS</td>\n",
       "      <td>1</td>\n",
       "      <td>2912.0</td>\n",
       "      <td>137.0</td>\n",
       "      <td>B1</td>\n",
       "      <td>496 CLAREMONT PARKWAY</td>\n",
       "      <td>NaN</td>\n",
       "      <td>10457.0</td>\n",
       "      <td>2.0</td>\n",
       "      <td>0.0</td>\n",
       "      <td>2.0</td>\n",
       "      <td>2,000</td>\n",
       "      <td>2,400</td>\n",
       "      <td>1993.0</td>\n",
       "      <td>1.0</td>\n",
       "      <td>B1</td>\n",
       "      <td>0</td>\n",
       "      <td>6/12/2019</td>\n",
       "    </tr>\n",
       "    <tr>\n",
       "      <th>...</th>\n",
       "      <td>...</td>\n",
       "      <td>...</td>\n",
       "      <td>...</td>\n",
       "      <td>...</td>\n",
       "      <td>...</td>\n",
       "      <td>...</td>\n",
       "      <td>...</td>\n",
       "      <td>...</td>\n",
       "      <td>...</td>\n",
       "      <td>...</td>\n",
       "      <td>...</td>\n",
       "      <td>...</td>\n",
       "      <td>...</td>\n",
       "      <td>...</td>\n",
       "      <td>...</td>\n",
       "      <td>...</td>\n",
       "      <td>...</td>\n",
       "      <td>...</td>\n",
       "      <td>...</td>\n",
       "      <td>...</td>\n",
       "    </tr>\n",
       "    <tr>\n",
       "      <th>14858</th>\n",
       "      <td>NaN</td>\n",
       "      <td>NaN</td>\n",
       "      <td>NaN</td>\n",
       "      <td>NaN</td>\n",
       "      <td>NaN</td>\n",
       "      <td>NaN</td>\n",
       "      <td>NaN</td>\n",
       "      <td>NaN</td>\n",
       "      <td>NaN</td>\n",
       "      <td>NaN</td>\n",
       "      <td>NaN</td>\n",
       "      <td>NaN</td>\n",
       "      <td>NaN</td>\n",
       "      <td>NaN</td>\n",
       "      <td>NaN</td>\n",
       "      <td>NaN</td>\n",
       "      <td>NaN</td>\n",
       "      <td>NaN</td>\n",
       "      <td>NaN</td>\n",
       "      <td>NaN</td>\n",
       "    </tr>\n",
       "    <tr>\n",
       "      <th>14859</th>\n",
       "      <td>NaN</td>\n",
       "      <td>NaN</td>\n",
       "      <td>NaN</td>\n",
       "      <td>NaN</td>\n",
       "      <td>NaN</td>\n",
       "      <td>NaN</td>\n",
       "      <td>NaN</td>\n",
       "      <td>NaN</td>\n",
       "      <td>NaN</td>\n",
       "      <td>NaN</td>\n",
       "      <td>NaN</td>\n",
       "      <td>NaN</td>\n",
       "      <td>NaN</td>\n",
       "      <td>NaN</td>\n",
       "      <td>NaN</td>\n",
       "      <td>NaN</td>\n",
       "      <td>NaN</td>\n",
       "      <td>NaN</td>\n",
       "      <td>NaN</td>\n",
       "      <td>NaN</td>\n",
       "    </tr>\n",
       "    <tr>\n",
       "      <th>14860</th>\n",
       "      <td>NaN</td>\n",
       "      <td>NaN</td>\n",
       "      <td>NaN</td>\n",
       "      <td>NaN</td>\n",
       "      <td>NaN</td>\n",
       "      <td>NaN</td>\n",
       "      <td>NaN</td>\n",
       "      <td>NaN</td>\n",
       "      <td>NaN</td>\n",
       "      <td>NaN</td>\n",
       "      <td>NaN</td>\n",
       "      <td>NaN</td>\n",
       "      <td>NaN</td>\n",
       "      <td>NaN</td>\n",
       "      <td>NaN</td>\n",
       "      <td>NaN</td>\n",
       "      <td>NaN</td>\n",
       "      <td>NaN</td>\n",
       "      <td>NaN</td>\n",
       "      <td>NaN</td>\n",
       "    </tr>\n",
       "    <tr>\n",
       "      <th>14861</th>\n",
       "      <td>NaN</td>\n",
       "      <td>NaN</td>\n",
       "      <td>NaN</td>\n",
       "      <td>NaN</td>\n",
       "      <td>NaN</td>\n",
       "      <td>NaN</td>\n",
       "      <td>NaN</td>\n",
       "      <td>NaN</td>\n",
       "      <td>NaN</td>\n",
       "      <td>NaN</td>\n",
       "      <td>NaN</td>\n",
       "      <td>NaN</td>\n",
       "      <td>NaN</td>\n",
       "      <td>NaN</td>\n",
       "      <td>NaN</td>\n",
       "      <td>NaN</td>\n",
       "      <td>NaN</td>\n",
       "      <td>NaN</td>\n",
       "      <td>NaN</td>\n",
       "      <td>NaN</td>\n",
       "    </tr>\n",
       "    <tr>\n",
       "      <th>14862</th>\n",
       "      <td>NaN</td>\n",
       "      <td>NaN</td>\n",
       "      <td>NaN</td>\n",
       "      <td>NaN</td>\n",
       "      <td>NaN</td>\n",
       "      <td>NaN</td>\n",
       "      <td>NaN</td>\n",
       "      <td>NaN</td>\n",
       "      <td>NaN</td>\n",
       "      <td>NaN</td>\n",
       "      <td>NaN</td>\n",
       "      <td>NaN</td>\n",
       "      <td>NaN</td>\n",
       "      <td>NaN</td>\n",
       "      <td>NaN</td>\n",
       "      <td>NaN</td>\n",
       "      <td>NaN</td>\n",
       "      <td>NaN</td>\n",
       "      <td>NaN</td>\n",
       "      <td>NaN</td>\n",
       "    </tr>\n",
       "  </tbody>\n",
       "</table>\n",
       "<p>97412 rows × 20 columns</p>\n",
       "</div>"
      ],
      "text/plain": [
       "       BOROUGH NEIGHBORHOOD  BUILDING CLASS CATEGORY  \\\n",
       "0          2.0     BATHGATE  01 ONE FAMILY DWELLINGS   \n",
       "1          2.0     BATHGATE  01 ONE FAMILY DWELLINGS   \n",
       "2          2.0     BATHGATE  01 ONE FAMILY DWELLINGS   \n",
       "3          2.0     BATHGATE  01 ONE FAMILY DWELLINGS   \n",
       "4          2.0     BATHGATE  02 TWO FAMILY DWELLINGS   \n",
       "...        ...          ...                      ...   \n",
       "14858      NaN          NaN                      NaN   \n",
       "14859      NaN          NaN                      NaN   \n",
       "14860      NaN          NaN                      NaN   \n",
       "14861      NaN          NaN                      NaN   \n",
       "14862      NaN          NaN                      NaN   \n",
       "\n",
       "      TAX CLASS AS OF FINAL ROLL 18/19   BLOCK    LOT  \\\n",
       "0                                    1  3030.0   70.0   \n",
       "1                                    1  3039.0   29.0   \n",
       "2                                    1  3043.0   55.0   \n",
       "3                                    1  3046.0   39.0   \n",
       "4                                    1  2912.0  137.0   \n",
       "...                                ...     ...    ...   \n",
       "14858                              NaN     NaN    NaN   \n",
       "14859                              NaN     NaN    NaN   \n",
       "14860                              NaN     NaN    NaN   \n",
       "14861                              NaN     NaN    NaN   \n",
       "14862                              NaN     NaN    NaN   \n",
       "\n",
       "      BUILDING CLASS AS OF FINAL ROLL 18/19                 ADDRESS  \\\n",
       "0                                        A1        4445 PARK AVENUE   \n",
       "1                                        A9  2327 WASHINGTON AVENUE   \n",
       "2                                        A1    1948 BATHGATE AVENUE   \n",
       "3                                        A1    2075 BATHGATE AVENUE   \n",
       "4                                        B1   496 CLAREMONT PARKWAY   \n",
       "...                                     ...                     ...   \n",
       "14858                                   NaN                     NaN   \n",
       "14859                                   NaN                     NaN   \n",
       "14860                                   NaN                     NaN   \n",
       "14861                                   NaN                     NaN   \n",
       "14862                                   NaN                     NaN   \n",
       "\n",
       "      APARTMENT NUMBER  ZIP CODE  RESIDENTIAL UNITS  COMMERCIAL UNITS  \\\n",
       "0                  NaN   10457.0                1.0               0.0   \n",
       "1                  NaN   10458.0                1.0               0.0   \n",
       "2                  NaN   10457.0                1.0               0.0   \n",
       "3                  NaN   10457.0                1.0               0.0   \n",
       "4                  NaN   10457.0                2.0               0.0   \n",
       "...                ...       ...                ...               ...   \n",
       "14858              NaN       NaN                NaN               NaN   \n",
       "14859              NaN       NaN                NaN               NaN   \n",
       "14860              NaN       NaN                NaN               NaN   \n",
       "14861              NaN       NaN                NaN               NaN   \n",
       "14862              NaN       NaN                NaN               NaN   \n",
       "\n",
       "       TOTAL UNITS LAND SQUARE FEET GROSS SQUARE FEET  YEAR BUILT  \\\n",
       "0              1.0            1,694             1,497      1899.0   \n",
       "1              1.0            1,095             1,260      1910.0   \n",
       "2              1.0            2,356             2,047      1901.0   \n",
       "3              1.0            1,986             1,344      1899.0   \n",
       "4              2.0            2,000             2,400      1993.0   \n",
       "...            ...              ...               ...         ...   \n",
       "14858          NaN              NaN               NaN         NaN   \n",
       "14859          NaN              NaN               NaN         NaN   \n",
       "14860          NaN              NaN               NaN         NaN   \n",
       "14861          NaN              NaN               NaN         NaN   \n",
       "14862          NaN              NaN               NaN         NaN   \n",
       "\n",
       "       TAX CLASS AT TIME OF SALE BUILDING CLASS AT TIME OF SALE SALE PRICE  \\\n",
       "0                            1.0                             A1    388,500   \n",
       "1                            1.0                             A9    110,000   \n",
       "2                            1.0                             A1    470,000   \n",
       "3                            1.0                             A1    420,000   \n",
       "4                            1.0                             B1          0   \n",
       "...                          ...                            ...        ...   \n",
       "14858                        NaN                            NaN        NaN   \n",
       "14859                        NaN                            NaN        NaN   \n",
       "14860                        NaN                            NaN        NaN   \n",
       "14861                        NaN                            NaN        NaN   \n",
       "14862                        NaN                            NaN        NaN   \n",
       "\n",
       "       SALE DATE  \n",
       "0      7/23/2019  \n",
       "1      12/6/2019  \n",
       "2       3/8/2019  \n",
       "3      5/24/2019  \n",
       "4      6/12/2019  \n",
       "...          ...  \n",
       "14858        NaN  \n",
       "14859        NaN  \n",
       "14860        NaN  \n",
       "14861        NaN  \n",
       "14862        NaN  \n",
       "\n",
       "[97412 rows x 20 columns]"
      ]
     },
     "execution_count": 8,
     "metadata": {},
     "output_type": "execute_result"
    }
   ],
   "source": [
    "#Dropping columns that are empty\n",
    "df = df.drop([\"EASEMENT\"],axis=1)\n",
    "df"
   ]
  },
  {
   "cell_type": "code",
   "execution_count": 9,
   "metadata": {},
   "outputs": [],
   "source": [
    "#Eliminating the comas for columns\n",
    "df['LAND SQUARE FEET']=df['LAND SQUARE FEET'].str.replace(',','')\n",
    "df['GROSS SQUARE FEET']=df['GROSS SQUARE FEET'].str.replace(',','')\n",
    "df['SALE PRICE']=df['SALE PRICE'].str.replace(',','')"
   ]
  },
  {
   "cell_type": "code",
   "execution_count": 10,
   "metadata": {},
   "outputs": [
    {
     "data": {
      "text/plain": [
       "BOROUGH                                  float64\n",
       "NEIGHBORHOOD                              object\n",
       "BUILDING CLASS CATEGORY                   object\n",
       "TAX CLASS AS OF FINAL ROLL 18/19          object\n",
       "BLOCK                                    float64\n",
       "LOT                                      float64\n",
       "BUILDING CLASS AS OF FINAL ROLL 18/19     object\n",
       "ADDRESS                                   object\n",
       "APARTMENT NUMBER                          object\n",
       "ZIP CODE                                 float64\n",
       "RESIDENTIAL UNITS                        float64\n",
       "COMMERCIAL UNITS                         float64\n",
       "TOTAL UNITS                              float64\n",
       "LAND SQUARE FEET                          object\n",
       "GROSS SQUARE FEET                         object\n",
       "YEAR BUILT                               float64\n",
       "TAX CLASS AT TIME OF SALE                float64\n",
       "BUILDING CLASS AT TIME OF SALE            object\n",
       "SALE PRICE                                object\n",
       "SALE DATE                                 object\n",
       "dtype: object"
      ]
     },
     "execution_count": 10,
     "metadata": {},
     "output_type": "execute_result"
    }
   ],
   "source": [
    "#Shows the data types for each of the columns\n",
    "df.dtypes"
   ]
  },
  {
   "cell_type": "code",
   "execution_count": 11,
   "metadata": {},
   "outputs": [],
   "source": [
    "#Converting data types\n",
    "df[\"SALE PRICE\"] = pd.to_numeric(df[\"SALE PRICE\"],errors='coerce')\n",
    "df[\"LAND SQUARE FEET\"] = pd.to_numeric(df[\"LAND SQUARE FEET\"],errors='coerce')\n",
    "df[\"GROSS SQUARE FEET\"] = pd.to_numeric(df[\"GROSS SQUARE FEET\"],errors='coerce')\n",
    "df[\"ZIP CODE\"] = pd.to_numeric(df[\"ZIP CODE\"],errors='coerce')\n",
    "df[\"YEAR BUILT\"] = pd.to_numeric(df[\"YEAR BUILT\"],errors='coerce')\n",
    "df[\"SALE DATE\"] = pd.to_datetime(df[\"SALE DATE\"],errors='coerce')"
   ]
  },
  {
   "cell_type": "code",
   "execution_count": 12,
   "metadata": {},
   "outputs": [
    {
     "data": {
      "text/plain": [
       "BOROUGH                                         float64\n",
       "NEIGHBORHOOD                                     object\n",
       "BUILDING CLASS CATEGORY                          object\n",
       "TAX CLASS AS OF FINAL ROLL 18/19                 object\n",
       "BLOCK                                           float64\n",
       "LOT                                             float64\n",
       "BUILDING CLASS AS OF FINAL ROLL 18/19            object\n",
       "ADDRESS                                          object\n",
       "APARTMENT NUMBER                                 object\n",
       "ZIP CODE                                        float64\n",
       "RESIDENTIAL UNITS                               float64\n",
       "COMMERCIAL UNITS                                float64\n",
       "TOTAL UNITS                                     float64\n",
       "LAND SQUARE FEET                                float64\n",
       "GROSS SQUARE FEET                               float64\n",
       "YEAR BUILT                                      float64\n",
       "TAX CLASS AT TIME OF SALE                       float64\n",
       "BUILDING CLASS AT TIME OF SALE                   object\n",
       "SALE PRICE                                      float64\n",
       "SALE DATE                                datetime64[ns]\n",
       "dtype: object"
      ]
     },
     "execution_count": 12,
     "metadata": {},
     "output_type": "execute_result"
    }
   ],
   "source": [
    "df.dtypes"
   ]
  },
  {
   "cell_type": "code",
   "execution_count": 13,
   "metadata": {},
   "outputs": [
    {
     "data": {
      "text/html": [
       "<div>\n",
       "<style scoped>\n",
       "    .dataframe tbody tr th:only-of-type {\n",
       "        vertical-align: middle;\n",
       "    }\n",
       "\n",
       "    .dataframe tbody tr th {\n",
       "        vertical-align: top;\n",
       "    }\n",
       "\n",
       "    .dataframe thead th {\n",
       "        text-align: right;\n",
       "    }\n",
       "</style>\n",
       "<table border=\"1\" class=\"dataframe\">\n",
       "  <thead>\n",
       "    <tr style=\"text-align: right;\">\n",
       "      <th></th>\n",
       "      <th>BOROUGH</th>\n",
       "      <th>NEIGHBORHOOD</th>\n",
       "      <th>BUILDING CLASS CATEGORY</th>\n",
       "      <th>TAX CLASS AS OF FINAL ROLL 18/19</th>\n",
       "      <th>BLOCK</th>\n",
       "      <th>LOT</th>\n",
       "      <th>BUILDING CLASS AS OF FINAL ROLL 18/19</th>\n",
       "      <th>ADDRESS</th>\n",
       "      <th>APARTMENT NUMBER</th>\n",
       "      <th>ZIP CODE</th>\n",
       "      <th>RESIDENTIAL UNITS</th>\n",
       "      <th>COMMERCIAL UNITS</th>\n",
       "      <th>TOTAL UNITS</th>\n",
       "      <th>LAND SQUARE FEET</th>\n",
       "      <th>GROSS SQUARE FEET</th>\n",
       "      <th>YEAR BUILT</th>\n",
       "      <th>TAX CLASS AT TIME OF SALE</th>\n",
       "      <th>BUILDING CLASS AT TIME OF SALE</th>\n",
       "      <th>SALE PRICE</th>\n",
       "      <th>SALE DATE</th>\n",
       "    </tr>\n",
       "  </thead>\n",
       "  <tbody>\n",
       "    <tr>\n",
       "      <th>0</th>\n",
       "      <td>2.0</td>\n",
       "      <td>BATHGATE</td>\n",
       "      <td>01 ONE FAMILY DWELLINGS</td>\n",
       "      <td>1</td>\n",
       "      <td>3030.0</td>\n",
       "      <td>70.0</td>\n",
       "      <td>A1</td>\n",
       "      <td>4445 PARK AVENUE</td>\n",
       "      <td>NaN</td>\n",
       "      <td>10457.0</td>\n",
       "      <td>1.0</td>\n",
       "      <td>0.0</td>\n",
       "      <td>1.0</td>\n",
       "      <td>1694.0</td>\n",
       "      <td>1497.0</td>\n",
       "      <td>1899.0</td>\n",
       "      <td>1.0</td>\n",
       "      <td>A1</td>\n",
       "      <td>388500.0</td>\n",
       "      <td>2019-07-23</td>\n",
       "    </tr>\n",
       "    <tr>\n",
       "      <th>1</th>\n",
       "      <td>2.0</td>\n",
       "      <td>BATHGATE</td>\n",
       "      <td>01 ONE FAMILY DWELLINGS</td>\n",
       "      <td>1</td>\n",
       "      <td>3039.0</td>\n",
       "      <td>29.0</td>\n",
       "      <td>A9</td>\n",
       "      <td>2327 WASHINGTON AVENUE</td>\n",
       "      <td>NaN</td>\n",
       "      <td>10458.0</td>\n",
       "      <td>1.0</td>\n",
       "      <td>0.0</td>\n",
       "      <td>1.0</td>\n",
       "      <td>1095.0</td>\n",
       "      <td>1260.0</td>\n",
       "      <td>1910.0</td>\n",
       "      <td>1.0</td>\n",
       "      <td>A9</td>\n",
       "      <td>110000.0</td>\n",
       "      <td>2019-12-06</td>\n",
       "    </tr>\n",
       "    <tr>\n",
       "      <th>2</th>\n",
       "      <td>2.0</td>\n",
       "      <td>BATHGATE</td>\n",
       "      <td>01 ONE FAMILY DWELLINGS</td>\n",
       "      <td>1</td>\n",
       "      <td>3043.0</td>\n",
       "      <td>55.0</td>\n",
       "      <td>A1</td>\n",
       "      <td>1948 BATHGATE AVENUE</td>\n",
       "      <td>NaN</td>\n",
       "      <td>10457.0</td>\n",
       "      <td>1.0</td>\n",
       "      <td>0.0</td>\n",
       "      <td>1.0</td>\n",
       "      <td>2356.0</td>\n",
       "      <td>2047.0</td>\n",
       "      <td>1901.0</td>\n",
       "      <td>1.0</td>\n",
       "      <td>A1</td>\n",
       "      <td>470000.0</td>\n",
       "      <td>2019-03-08</td>\n",
       "    </tr>\n",
       "    <tr>\n",
       "      <th>3</th>\n",
       "      <td>2.0</td>\n",
       "      <td>BATHGATE</td>\n",
       "      <td>01 ONE FAMILY DWELLINGS</td>\n",
       "      <td>1</td>\n",
       "      <td>3046.0</td>\n",
       "      <td>39.0</td>\n",
       "      <td>A1</td>\n",
       "      <td>2075 BATHGATE AVENUE</td>\n",
       "      <td>NaN</td>\n",
       "      <td>10457.0</td>\n",
       "      <td>1.0</td>\n",
       "      <td>0.0</td>\n",
       "      <td>1.0</td>\n",
       "      <td>1986.0</td>\n",
       "      <td>1344.0</td>\n",
       "      <td>1899.0</td>\n",
       "      <td>1.0</td>\n",
       "      <td>A1</td>\n",
       "      <td>420000.0</td>\n",
       "      <td>2019-05-24</td>\n",
       "    </tr>\n",
       "    <tr>\n",
       "      <th>4</th>\n",
       "      <td>2.0</td>\n",
       "      <td>BATHGATE</td>\n",
       "      <td>02 TWO FAMILY DWELLINGS</td>\n",
       "      <td>1</td>\n",
       "      <td>2912.0</td>\n",
       "      <td>137.0</td>\n",
       "      <td>B1</td>\n",
       "      <td>496 CLAREMONT PARKWAY</td>\n",
       "      <td>NaN</td>\n",
       "      <td>10457.0</td>\n",
       "      <td>2.0</td>\n",
       "      <td>0.0</td>\n",
       "      <td>2.0</td>\n",
       "      <td>2000.0</td>\n",
       "      <td>2400.0</td>\n",
       "      <td>1993.0</td>\n",
       "      <td>1.0</td>\n",
       "      <td>B1</td>\n",
       "      <td>0.0</td>\n",
       "      <td>2019-06-12</td>\n",
       "    </tr>\n",
       "    <tr>\n",
       "      <th>...</th>\n",
       "      <td>...</td>\n",
       "      <td>...</td>\n",
       "      <td>...</td>\n",
       "      <td>...</td>\n",
       "      <td>...</td>\n",
       "      <td>...</td>\n",
       "      <td>...</td>\n",
       "      <td>...</td>\n",
       "      <td>...</td>\n",
       "      <td>...</td>\n",
       "      <td>...</td>\n",
       "      <td>...</td>\n",
       "      <td>...</td>\n",
       "      <td>...</td>\n",
       "      <td>...</td>\n",
       "      <td>...</td>\n",
       "      <td>...</td>\n",
       "      <td>...</td>\n",
       "      <td>...</td>\n",
       "      <td>...</td>\n",
       "    </tr>\n",
       "    <tr>\n",
       "      <th>14858</th>\n",
       "      <td>NaN</td>\n",
       "      <td>NaN</td>\n",
       "      <td>NaN</td>\n",
       "      <td>NaN</td>\n",
       "      <td>NaN</td>\n",
       "      <td>NaN</td>\n",
       "      <td>NaN</td>\n",
       "      <td>NaN</td>\n",
       "      <td>NaN</td>\n",
       "      <td>NaN</td>\n",
       "      <td>NaN</td>\n",
       "      <td>NaN</td>\n",
       "      <td>NaN</td>\n",
       "      <td>NaN</td>\n",
       "      <td>NaN</td>\n",
       "      <td>NaN</td>\n",
       "      <td>NaN</td>\n",
       "      <td>NaN</td>\n",
       "      <td>NaN</td>\n",
       "      <td>NaT</td>\n",
       "    </tr>\n",
       "    <tr>\n",
       "      <th>14859</th>\n",
       "      <td>NaN</td>\n",
       "      <td>NaN</td>\n",
       "      <td>NaN</td>\n",
       "      <td>NaN</td>\n",
       "      <td>NaN</td>\n",
       "      <td>NaN</td>\n",
       "      <td>NaN</td>\n",
       "      <td>NaN</td>\n",
       "      <td>NaN</td>\n",
       "      <td>NaN</td>\n",
       "      <td>NaN</td>\n",
       "      <td>NaN</td>\n",
       "      <td>NaN</td>\n",
       "      <td>NaN</td>\n",
       "      <td>NaN</td>\n",
       "      <td>NaN</td>\n",
       "      <td>NaN</td>\n",
       "      <td>NaN</td>\n",
       "      <td>NaN</td>\n",
       "      <td>NaT</td>\n",
       "    </tr>\n",
       "    <tr>\n",
       "      <th>14860</th>\n",
       "      <td>NaN</td>\n",
       "      <td>NaN</td>\n",
       "      <td>NaN</td>\n",
       "      <td>NaN</td>\n",
       "      <td>NaN</td>\n",
       "      <td>NaN</td>\n",
       "      <td>NaN</td>\n",
       "      <td>NaN</td>\n",
       "      <td>NaN</td>\n",
       "      <td>NaN</td>\n",
       "      <td>NaN</td>\n",
       "      <td>NaN</td>\n",
       "      <td>NaN</td>\n",
       "      <td>NaN</td>\n",
       "      <td>NaN</td>\n",
       "      <td>NaN</td>\n",
       "      <td>NaN</td>\n",
       "      <td>NaN</td>\n",
       "      <td>NaN</td>\n",
       "      <td>NaT</td>\n",
       "    </tr>\n",
       "    <tr>\n",
       "      <th>14861</th>\n",
       "      <td>NaN</td>\n",
       "      <td>NaN</td>\n",
       "      <td>NaN</td>\n",
       "      <td>NaN</td>\n",
       "      <td>NaN</td>\n",
       "      <td>NaN</td>\n",
       "      <td>NaN</td>\n",
       "      <td>NaN</td>\n",
       "      <td>NaN</td>\n",
       "      <td>NaN</td>\n",
       "      <td>NaN</td>\n",
       "      <td>NaN</td>\n",
       "      <td>NaN</td>\n",
       "      <td>NaN</td>\n",
       "      <td>NaN</td>\n",
       "      <td>NaN</td>\n",
       "      <td>NaN</td>\n",
       "      <td>NaN</td>\n",
       "      <td>NaN</td>\n",
       "      <td>NaT</td>\n",
       "    </tr>\n",
       "    <tr>\n",
       "      <th>14862</th>\n",
       "      <td>NaN</td>\n",
       "      <td>NaN</td>\n",
       "      <td>NaN</td>\n",
       "      <td>NaN</td>\n",
       "      <td>NaN</td>\n",
       "      <td>NaN</td>\n",
       "      <td>NaN</td>\n",
       "      <td>NaN</td>\n",
       "      <td>NaN</td>\n",
       "      <td>NaN</td>\n",
       "      <td>NaN</td>\n",
       "      <td>NaN</td>\n",
       "      <td>NaN</td>\n",
       "      <td>NaN</td>\n",
       "      <td>NaN</td>\n",
       "      <td>NaN</td>\n",
       "      <td>NaN</td>\n",
       "      <td>NaN</td>\n",
       "      <td>NaN</td>\n",
       "      <td>NaT</td>\n",
       "    </tr>\n",
       "  </tbody>\n",
       "</table>\n",
       "<p>97412 rows × 20 columns</p>\n",
       "</div>"
      ],
      "text/plain": [
       "       BOROUGH NEIGHBORHOOD  BUILDING CLASS CATEGORY  \\\n",
       "0          2.0     BATHGATE  01 ONE FAMILY DWELLINGS   \n",
       "1          2.0     BATHGATE  01 ONE FAMILY DWELLINGS   \n",
       "2          2.0     BATHGATE  01 ONE FAMILY DWELLINGS   \n",
       "3          2.0     BATHGATE  01 ONE FAMILY DWELLINGS   \n",
       "4          2.0     BATHGATE  02 TWO FAMILY DWELLINGS   \n",
       "...        ...          ...                      ...   \n",
       "14858      NaN          NaN                      NaN   \n",
       "14859      NaN          NaN                      NaN   \n",
       "14860      NaN          NaN                      NaN   \n",
       "14861      NaN          NaN                      NaN   \n",
       "14862      NaN          NaN                      NaN   \n",
       "\n",
       "      TAX CLASS AS OF FINAL ROLL 18/19   BLOCK    LOT  \\\n",
       "0                                    1  3030.0   70.0   \n",
       "1                                    1  3039.0   29.0   \n",
       "2                                    1  3043.0   55.0   \n",
       "3                                    1  3046.0   39.0   \n",
       "4                                    1  2912.0  137.0   \n",
       "...                                ...     ...    ...   \n",
       "14858                              NaN     NaN    NaN   \n",
       "14859                              NaN     NaN    NaN   \n",
       "14860                              NaN     NaN    NaN   \n",
       "14861                              NaN     NaN    NaN   \n",
       "14862                              NaN     NaN    NaN   \n",
       "\n",
       "      BUILDING CLASS AS OF FINAL ROLL 18/19                 ADDRESS  \\\n",
       "0                                        A1        4445 PARK AVENUE   \n",
       "1                                        A9  2327 WASHINGTON AVENUE   \n",
       "2                                        A1    1948 BATHGATE AVENUE   \n",
       "3                                        A1    2075 BATHGATE AVENUE   \n",
       "4                                        B1   496 CLAREMONT PARKWAY   \n",
       "...                                     ...                     ...   \n",
       "14858                                   NaN                     NaN   \n",
       "14859                                   NaN                     NaN   \n",
       "14860                                   NaN                     NaN   \n",
       "14861                                   NaN                     NaN   \n",
       "14862                                   NaN                     NaN   \n",
       "\n",
       "      APARTMENT NUMBER  ZIP CODE  RESIDENTIAL UNITS  COMMERCIAL UNITS  \\\n",
       "0                  NaN   10457.0                1.0               0.0   \n",
       "1                  NaN   10458.0                1.0               0.0   \n",
       "2                  NaN   10457.0                1.0               0.0   \n",
       "3                  NaN   10457.0                1.0               0.0   \n",
       "4                  NaN   10457.0                2.0               0.0   \n",
       "...                ...       ...                ...               ...   \n",
       "14858              NaN       NaN                NaN               NaN   \n",
       "14859              NaN       NaN                NaN               NaN   \n",
       "14860              NaN       NaN                NaN               NaN   \n",
       "14861              NaN       NaN                NaN               NaN   \n",
       "14862              NaN       NaN                NaN               NaN   \n",
       "\n",
       "       TOTAL UNITS  LAND SQUARE FEET  GROSS SQUARE FEET  YEAR BUILT  \\\n",
       "0              1.0            1694.0             1497.0      1899.0   \n",
       "1              1.0            1095.0             1260.0      1910.0   \n",
       "2              1.0            2356.0             2047.0      1901.0   \n",
       "3              1.0            1986.0             1344.0      1899.0   \n",
       "4              2.0            2000.0             2400.0      1993.0   \n",
       "...            ...               ...                ...         ...   \n",
       "14858          NaN               NaN                NaN         NaN   \n",
       "14859          NaN               NaN                NaN         NaN   \n",
       "14860          NaN               NaN                NaN         NaN   \n",
       "14861          NaN               NaN                NaN         NaN   \n",
       "14862          NaN               NaN                NaN         NaN   \n",
       "\n",
       "       TAX CLASS AT TIME OF SALE BUILDING CLASS AT TIME OF SALE  SALE PRICE  \\\n",
       "0                            1.0                             A1    388500.0   \n",
       "1                            1.0                             A9    110000.0   \n",
       "2                            1.0                             A1    470000.0   \n",
       "3                            1.0                             A1    420000.0   \n",
       "4                            1.0                             B1         0.0   \n",
       "...                          ...                            ...         ...   \n",
       "14858                        NaN                            NaN         NaN   \n",
       "14859                        NaN                            NaN         NaN   \n",
       "14860                        NaN                            NaN         NaN   \n",
       "14861                        NaN                            NaN         NaN   \n",
       "14862                        NaN                            NaN         NaN   \n",
       "\n",
       "       SALE DATE  \n",
       "0     2019-07-23  \n",
       "1     2019-12-06  \n",
       "2     2019-03-08  \n",
       "3     2019-05-24  \n",
       "4     2019-06-12  \n",
       "...          ...  \n",
       "14858        NaT  \n",
       "14859        NaT  \n",
       "14860        NaT  \n",
       "14861        NaT  \n",
       "14862        NaT  \n",
       "\n",
       "[97412 rows x 20 columns]"
      ]
     },
     "execution_count": 13,
     "metadata": {},
     "output_type": "execute_result"
    }
   ],
   "source": [
    "df"
   ]
  },
  {
   "cell_type": "code",
   "execution_count": 14,
   "metadata": {},
   "outputs": [],
   "source": [
    "df[\"BOROUGH\"] = df[\"BOROUGH\"].replace({1:\"Manhattan\",2:\"Bronx\",3:\"Brooklyn\",4:\"Queens\",5:\"Staten Island\"})"
   ]
  },
  {
   "cell_type": "code",
   "execution_count": 15,
   "metadata": {},
   "outputs": [
    {
     "data": {
      "text/html": [
       "<div>\n",
       "<style scoped>\n",
       "    .dataframe tbody tr th:only-of-type {\n",
       "        vertical-align: middle;\n",
       "    }\n",
       "\n",
       "    .dataframe tbody tr th {\n",
       "        vertical-align: top;\n",
       "    }\n",
       "\n",
       "    .dataframe thead th {\n",
       "        text-align: right;\n",
       "    }\n",
       "</style>\n",
       "<table border=\"1\" class=\"dataframe\">\n",
       "  <thead>\n",
       "    <tr style=\"text-align: right;\">\n",
       "      <th></th>\n",
       "      <th>BOROUGH</th>\n",
       "      <th>NEIGHBORHOOD</th>\n",
       "      <th>BUILDING CLASS CATEGORY</th>\n",
       "      <th>TAX CLASS AS OF FINAL ROLL 18/19</th>\n",
       "      <th>BLOCK</th>\n",
       "      <th>LOT</th>\n",
       "      <th>BUILDING CLASS AS OF FINAL ROLL 18/19</th>\n",
       "      <th>ADDRESS</th>\n",
       "      <th>APARTMENT NUMBER</th>\n",
       "      <th>ZIP CODE</th>\n",
       "      <th>RESIDENTIAL UNITS</th>\n",
       "      <th>COMMERCIAL UNITS</th>\n",
       "      <th>TOTAL UNITS</th>\n",
       "      <th>LAND SQUARE FEET</th>\n",
       "      <th>GROSS SQUARE FEET</th>\n",
       "      <th>YEAR BUILT</th>\n",
       "      <th>TAX CLASS AT TIME OF SALE</th>\n",
       "      <th>BUILDING CLASS AT TIME OF SALE</th>\n",
       "      <th>SALE PRICE</th>\n",
       "      <th>SALE DATE</th>\n",
       "    </tr>\n",
       "  </thead>\n",
       "  <tbody>\n",
       "    <tr>\n",
       "      <th>0</th>\n",
       "      <td>Bronx</td>\n",
       "      <td>BATHGATE</td>\n",
       "      <td>01 ONE FAMILY DWELLINGS</td>\n",
       "      <td>1</td>\n",
       "      <td>3030.0</td>\n",
       "      <td>70.0</td>\n",
       "      <td>A1</td>\n",
       "      <td>4445 PARK AVENUE</td>\n",
       "      <td>NaN</td>\n",
       "      <td>10457.0</td>\n",
       "      <td>1.0</td>\n",
       "      <td>0.0</td>\n",
       "      <td>1.0</td>\n",
       "      <td>1694.0</td>\n",
       "      <td>1497.0</td>\n",
       "      <td>1899.0</td>\n",
       "      <td>1.0</td>\n",
       "      <td>A1</td>\n",
       "      <td>388500.0</td>\n",
       "      <td>2019-07-23</td>\n",
       "    </tr>\n",
       "    <tr>\n",
       "      <th>1</th>\n",
       "      <td>Bronx</td>\n",
       "      <td>BATHGATE</td>\n",
       "      <td>01 ONE FAMILY DWELLINGS</td>\n",
       "      <td>1</td>\n",
       "      <td>3039.0</td>\n",
       "      <td>29.0</td>\n",
       "      <td>A9</td>\n",
       "      <td>2327 WASHINGTON AVENUE</td>\n",
       "      <td>NaN</td>\n",
       "      <td>10458.0</td>\n",
       "      <td>1.0</td>\n",
       "      <td>0.0</td>\n",
       "      <td>1.0</td>\n",
       "      <td>1095.0</td>\n",
       "      <td>1260.0</td>\n",
       "      <td>1910.0</td>\n",
       "      <td>1.0</td>\n",
       "      <td>A9</td>\n",
       "      <td>110000.0</td>\n",
       "      <td>2019-12-06</td>\n",
       "    </tr>\n",
       "    <tr>\n",
       "      <th>2</th>\n",
       "      <td>Bronx</td>\n",
       "      <td>BATHGATE</td>\n",
       "      <td>01 ONE FAMILY DWELLINGS</td>\n",
       "      <td>1</td>\n",
       "      <td>3043.0</td>\n",
       "      <td>55.0</td>\n",
       "      <td>A1</td>\n",
       "      <td>1948 BATHGATE AVENUE</td>\n",
       "      <td>NaN</td>\n",
       "      <td>10457.0</td>\n",
       "      <td>1.0</td>\n",
       "      <td>0.0</td>\n",
       "      <td>1.0</td>\n",
       "      <td>2356.0</td>\n",
       "      <td>2047.0</td>\n",
       "      <td>1901.0</td>\n",
       "      <td>1.0</td>\n",
       "      <td>A1</td>\n",
       "      <td>470000.0</td>\n",
       "      <td>2019-03-08</td>\n",
       "    </tr>\n",
       "    <tr>\n",
       "      <th>3</th>\n",
       "      <td>Bronx</td>\n",
       "      <td>BATHGATE</td>\n",
       "      <td>01 ONE FAMILY DWELLINGS</td>\n",
       "      <td>1</td>\n",
       "      <td>3046.0</td>\n",
       "      <td>39.0</td>\n",
       "      <td>A1</td>\n",
       "      <td>2075 BATHGATE AVENUE</td>\n",
       "      <td>NaN</td>\n",
       "      <td>10457.0</td>\n",
       "      <td>1.0</td>\n",
       "      <td>0.0</td>\n",
       "      <td>1.0</td>\n",
       "      <td>1986.0</td>\n",
       "      <td>1344.0</td>\n",
       "      <td>1899.0</td>\n",
       "      <td>1.0</td>\n",
       "      <td>A1</td>\n",
       "      <td>420000.0</td>\n",
       "      <td>2019-05-24</td>\n",
       "    </tr>\n",
       "    <tr>\n",
       "      <th>4</th>\n",
       "      <td>Bronx</td>\n",
       "      <td>BATHGATE</td>\n",
       "      <td>02 TWO FAMILY DWELLINGS</td>\n",
       "      <td>1</td>\n",
       "      <td>2912.0</td>\n",
       "      <td>137.0</td>\n",
       "      <td>B1</td>\n",
       "      <td>496 CLAREMONT PARKWAY</td>\n",
       "      <td>NaN</td>\n",
       "      <td>10457.0</td>\n",
       "      <td>2.0</td>\n",
       "      <td>0.0</td>\n",
       "      <td>2.0</td>\n",
       "      <td>2000.0</td>\n",
       "      <td>2400.0</td>\n",
       "      <td>1993.0</td>\n",
       "      <td>1.0</td>\n",
       "      <td>B1</td>\n",
       "      <td>0.0</td>\n",
       "      <td>2019-06-12</td>\n",
       "    </tr>\n",
       "    <tr>\n",
       "      <th>...</th>\n",
       "      <td>...</td>\n",
       "      <td>...</td>\n",
       "      <td>...</td>\n",
       "      <td>...</td>\n",
       "      <td>...</td>\n",
       "      <td>...</td>\n",
       "      <td>...</td>\n",
       "      <td>...</td>\n",
       "      <td>...</td>\n",
       "      <td>...</td>\n",
       "      <td>...</td>\n",
       "      <td>...</td>\n",
       "      <td>...</td>\n",
       "      <td>...</td>\n",
       "      <td>...</td>\n",
       "      <td>...</td>\n",
       "      <td>...</td>\n",
       "      <td>...</td>\n",
       "      <td>...</td>\n",
       "      <td>...</td>\n",
       "    </tr>\n",
       "    <tr>\n",
       "      <th>14858</th>\n",
       "      <td>NaN</td>\n",
       "      <td>NaN</td>\n",
       "      <td>NaN</td>\n",
       "      <td>NaN</td>\n",
       "      <td>NaN</td>\n",
       "      <td>NaN</td>\n",
       "      <td>NaN</td>\n",
       "      <td>NaN</td>\n",
       "      <td>NaN</td>\n",
       "      <td>NaN</td>\n",
       "      <td>NaN</td>\n",
       "      <td>NaN</td>\n",
       "      <td>NaN</td>\n",
       "      <td>NaN</td>\n",
       "      <td>NaN</td>\n",
       "      <td>NaN</td>\n",
       "      <td>NaN</td>\n",
       "      <td>NaN</td>\n",
       "      <td>NaN</td>\n",
       "      <td>NaT</td>\n",
       "    </tr>\n",
       "    <tr>\n",
       "      <th>14859</th>\n",
       "      <td>NaN</td>\n",
       "      <td>NaN</td>\n",
       "      <td>NaN</td>\n",
       "      <td>NaN</td>\n",
       "      <td>NaN</td>\n",
       "      <td>NaN</td>\n",
       "      <td>NaN</td>\n",
       "      <td>NaN</td>\n",
       "      <td>NaN</td>\n",
       "      <td>NaN</td>\n",
       "      <td>NaN</td>\n",
       "      <td>NaN</td>\n",
       "      <td>NaN</td>\n",
       "      <td>NaN</td>\n",
       "      <td>NaN</td>\n",
       "      <td>NaN</td>\n",
       "      <td>NaN</td>\n",
       "      <td>NaN</td>\n",
       "      <td>NaN</td>\n",
       "      <td>NaT</td>\n",
       "    </tr>\n",
       "    <tr>\n",
       "      <th>14860</th>\n",
       "      <td>NaN</td>\n",
       "      <td>NaN</td>\n",
       "      <td>NaN</td>\n",
       "      <td>NaN</td>\n",
       "      <td>NaN</td>\n",
       "      <td>NaN</td>\n",
       "      <td>NaN</td>\n",
       "      <td>NaN</td>\n",
       "      <td>NaN</td>\n",
       "      <td>NaN</td>\n",
       "      <td>NaN</td>\n",
       "      <td>NaN</td>\n",
       "      <td>NaN</td>\n",
       "      <td>NaN</td>\n",
       "      <td>NaN</td>\n",
       "      <td>NaN</td>\n",
       "      <td>NaN</td>\n",
       "      <td>NaN</td>\n",
       "      <td>NaN</td>\n",
       "      <td>NaT</td>\n",
       "    </tr>\n",
       "    <tr>\n",
       "      <th>14861</th>\n",
       "      <td>NaN</td>\n",
       "      <td>NaN</td>\n",
       "      <td>NaN</td>\n",
       "      <td>NaN</td>\n",
       "      <td>NaN</td>\n",
       "      <td>NaN</td>\n",
       "      <td>NaN</td>\n",
       "      <td>NaN</td>\n",
       "      <td>NaN</td>\n",
       "      <td>NaN</td>\n",
       "      <td>NaN</td>\n",
       "      <td>NaN</td>\n",
       "      <td>NaN</td>\n",
       "      <td>NaN</td>\n",
       "      <td>NaN</td>\n",
       "      <td>NaN</td>\n",
       "      <td>NaN</td>\n",
       "      <td>NaN</td>\n",
       "      <td>NaN</td>\n",
       "      <td>NaT</td>\n",
       "    </tr>\n",
       "    <tr>\n",
       "      <th>14862</th>\n",
       "      <td>NaN</td>\n",
       "      <td>NaN</td>\n",
       "      <td>NaN</td>\n",
       "      <td>NaN</td>\n",
       "      <td>NaN</td>\n",
       "      <td>NaN</td>\n",
       "      <td>NaN</td>\n",
       "      <td>NaN</td>\n",
       "      <td>NaN</td>\n",
       "      <td>NaN</td>\n",
       "      <td>NaN</td>\n",
       "      <td>NaN</td>\n",
       "      <td>NaN</td>\n",
       "      <td>NaN</td>\n",
       "      <td>NaN</td>\n",
       "      <td>NaN</td>\n",
       "      <td>NaN</td>\n",
       "      <td>NaN</td>\n",
       "      <td>NaN</td>\n",
       "      <td>NaT</td>\n",
       "    </tr>\n",
       "  </tbody>\n",
       "</table>\n",
       "<p>97412 rows × 20 columns</p>\n",
       "</div>"
      ],
      "text/plain": [
       "      BOROUGH NEIGHBORHOOD  BUILDING CLASS CATEGORY  \\\n",
       "0       Bronx     BATHGATE  01 ONE FAMILY DWELLINGS   \n",
       "1       Bronx     BATHGATE  01 ONE FAMILY DWELLINGS   \n",
       "2       Bronx     BATHGATE  01 ONE FAMILY DWELLINGS   \n",
       "3       Bronx     BATHGATE  01 ONE FAMILY DWELLINGS   \n",
       "4       Bronx     BATHGATE  02 TWO FAMILY DWELLINGS   \n",
       "...       ...          ...                      ...   \n",
       "14858     NaN          NaN                      NaN   \n",
       "14859     NaN          NaN                      NaN   \n",
       "14860     NaN          NaN                      NaN   \n",
       "14861     NaN          NaN                      NaN   \n",
       "14862     NaN          NaN                      NaN   \n",
       "\n",
       "      TAX CLASS AS OF FINAL ROLL 18/19   BLOCK    LOT  \\\n",
       "0                                    1  3030.0   70.0   \n",
       "1                                    1  3039.0   29.0   \n",
       "2                                    1  3043.0   55.0   \n",
       "3                                    1  3046.0   39.0   \n",
       "4                                    1  2912.0  137.0   \n",
       "...                                ...     ...    ...   \n",
       "14858                              NaN     NaN    NaN   \n",
       "14859                              NaN     NaN    NaN   \n",
       "14860                              NaN     NaN    NaN   \n",
       "14861                              NaN     NaN    NaN   \n",
       "14862                              NaN     NaN    NaN   \n",
       "\n",
       "      BUILDING CLASS AS OF FINAL ROLL 18/19                 ADDRESS  \\\n",
       "0                                        A1        4445 PARK AVENUE   \n",
       "1                                        A9  2327 WASHINGTON AVENUE   \n",
       "2                                        A1    1948 BATHGATE AVENUE   \n",
       "3                                        A1    2075 BATHGATE AVENUE   \n",
       "4                                        B1   496 CLAREMONT PARKWAY   \n",
       "...                                     ...                     ...   \n",
       "14858                                   NaN                     NaN   \n",
       "14859                                   NaN                     NaN   \n",
       "14860                                   NaN                     NaN   \n",
       "14861                                   NaN                     NaN   \n",
       "14862                                   NaN                     NaN   \n",
       "\n",
       "      APARTMENT NUMBER  ZIP CODE  RESIDENTIAL UNITS  COMMERCIAL UNITS  \\\n",
       "0                  NaN   10457.0                1.0               0.0   \n",
       "1                  NaN   10458.0                1.0               0.0   \n",
       "2                  NaN   10457.0                1.0               0.0   \n",
       "3                  NaN   10457.0                1.0               0.0   \n",
       "4                  NaN   10457.0                2.0               0.0   \n",
       "...                ...       ...                ...               ...   \n",
       "14858              NaN       NaN                NaN               NaN   \n",
       "14859              NaN       NaN                NaN               NaN   \n",
       "14860              NaN       NaN                NaN               NaN   \n",
       "14861              NaN       NaN                NaN               NaN   \n",
       "14862              NaN       NaN                NaN               NaN   \n",
       "\n",
       "       TOTAL UNITS  LAND SQUARE FEET  GROSS SQUARE FEET  YEAR BUILT  \\\n",
       "0              1.0            1694.0             1497.0      1899.0   \n",
       "1              1.0            1095.0             1260.0      1910.0   \n",
       "2              1.0            2356.0             2047.0      1901.0   \n",
       "3              1.0            1986.0             1344.0      1899.0   \n",
       "4              2.0            2000.0             2400.0      1993.0   \n",
       "...            ...               ...                ...         ...   \n",
       "14858          NaN               NaN                NaN         NaN   \n",
       "14859          NaN               NaN                NaN         NaN   \n",
       "14860          NaN               NaN                NaN         NaN   \n",
       "14861          NaN               NaN                NaN         NaN   \n",
       "14862          NaN               NaN                NaN         NaN   \n",
       "\n",
       "       TAX CLASS AT TIME OF SALE BUILDING CLASS AT TIME OF SALE  SALE PRICE  \\\n",
       "0                            1.0                             A1    388500.0   \n",
       "1                            1.0                             A9    110000.0   \n",
       "2                            1.0                             A1    470000.0   \n",
       "3                            1.0                             A1    420000.0   \n",
       "4                            1.0                             B1         0.0   \n",
       "...                          ...                            ...         ...   \n",
       "14858                        NaN                            NaN         NaN   \n",
       "14859                        NaN                            NaN         NaN   \n",
       "14860                        NaN                            NaN         NaN   \n",
       "14861                        NaN                            NaN         NaN   \n",
       "14862                        NaN                            NaN         NaN   \n",
       "\n",
       "       SALE DATE  \n",
       "0     2019-07-23  \n",
       "1     2019-12-06  \n",
       "2     2019-03-08  \n",
       "3     2019-05-24  \n",
       "4     2019-06-12  \n",
       "...          ...  \n",
       "14858        NaT  \n",
       "14859        NaT  \n",
       "14860        NaT  \n",
       "14861        NaT  \n",
       "14862        NaT  \n",
       "\n",
       "[97412 rows x 20 columns]"
      ]
     },
     "execution_count": 15,
     "metadata": {},
     "output_type": "execute_result"
    }
   ],
   "source": [
    "df"
   ]
  },
  {
   "cell_type": "code",
   "execution_count": 16,
   "metadata": {},
   "outputs": [
    {
     "name": "stdout",
     "output_type": "stream",
     "text": [
      "13577\n"
     ]
    }
   ],
   "source": [
    "#Counting total duplicated values in the dataframe\n",
    "print(df.duplicated().sum())"
   ]
  },
  {
   "cell_type": "code",
   "execution_count": 17,
   "metadata": {},
   "outputs": [],
   "source": [
    "#Removing duplicate records from the dataframe\n",
    "df = df.drop_duplicates()"
   ]
  },
  {
   "cell_type": "code",
   "execution_count": 18,
   "metadata": {},
   "outputs": [
    {
     "name": "stdout",
     "output_type": "stream",
     "text": [
      "0\n"
     ]
    }
   ],
   "source": [
    "#Shows that there are no duplicates value\n",
    "print(df.duplicated().sum())"
   ]
  },
  {
   "cell_type": "code",
   "execution_count": 19,
   "metadata": {},
   "outputs": [
    {
     "data": {
      "text/plain": [
       "(83835, 20)"
      ]
     },
     "execution_count": 19,
     "metadata": {},
     "output_type": "execute_result"
    }
   ],
   "source": [
    "#The dataset reduced in size due to droping duplicate records\n",
    "df.shape"
   ]
  },
  {
   "cell_type": "code",
   "execution_count": 20,
   "metadata": {},
   "outputs": [
    {
     "name": "stdout",
     "output_type": "stream",
     "text": [
      "<class 'pandas.core.frame.DataFrame'>\n",
      "Int64Index: 83835 entries, 0 to 8370\n",
      "Data columns (total 20 columns):\n",
      " #   Column                                 Non-Null Count  Dtype         \n",
      "---  ------                                 --------------  -----         \n",
      " 0   BOROUGH                                83834 non-null  object        \n",
      " 1   NEIGHBORHOOD                           83834 non-null  object        \n",
      " 2   BUILDING CLASS CATEGORY                83834 non-null  object        \n",
      " 3   TAX CLASS AS OF FINAL ROLL 18/19       83643 non-null  object        \n",
      " 4   BLOCK                                  83834 non-null  float64       \n",
      " 5   LOT                                    83834 non-null  float64       \n",
      " 6   BUILDING CLASS AS OF FINAL ROLL 18/19  83643 non-null  object        \n",
      " 7   ADDRESS                                83834 non-null  object        \n",
      " 8   APARTMENT NUMBER                       18328 non-null  object        \n",
      " 9   ZIP CODE                               83820 non-null  float64       \n",
      " 10  RESIDENTIAL UNITS                      66691 non-null  float64       \n",
      " 11  COMMERCIAL UNITS                       66691 non-null  float64       \n",
      " 12  TOTAL UNITS                            66691 non-null  float64       \n",
      " 13  LAND SQUARE FEET                       66691 non-null  float64       \n",
      " 14  GROSS SQUARE FEET                      66691 non-null  float64       \n",
      " 15  YEAR BUILT                             77812 non-null  float64       \n",
      " 16  TAX CLASS AT TIME OF SALE              83834 non-null  float64       \n",
      " 17  BUILDING CLASS AT TIME OF SALE         83834 non-null  object        \n",
      " 18  SALE PRICE                             83834 non-null  float64       \n",
      " 19  SALE DATE                              83834 non-null  datetime64[ns]\n",
      "dtypes: datetime64[ns](1), float64(11), object(8)\n",
      "memory usage: 13.4+ MB\n"
     ]
    }
   ],
   "source": [
    "df.info()"
   ]
  },
  {
   "cell_type": "code",
   "execution_count": 21,
   "metadata": {},
   "outputs": [
    {
     "data": {
      "text/plain": [
       "BOROUGH                                      1\n",
       "NEIGHBORHOOD                                 1\n",
       "BUILDING CLASS CATEGORY                      1\n",
       "TAX CLASS AS OF FINAL ROLL 18/19           192\n",
       "BLOCK                                        1\n",
       "LOT                                          1\n",
       "BUILDING CLASS AS OF FINAL ROLL 18/19      192\n",
       "ADDRESS                                      1\n",
       "APARTMENT NUMBER                         65507\n",
       "ZIP CODE                                    15\n",
       "RESIDENTIAL UNITS                        17144\n",
       "COMMERCIAL UNITS                         17144\n",
       "TOTAL UNITS                              17144\n",
       "LAND SQUARE FEET                         17144\n",
       "GROSS SQUARE FEET                        17144\n",
       "YEAR BUILT                                6023\n",
       "TAX CLASS AT TIME OF SALE                    1\n",
       "BUILDING CLASS AT TIME OF SALE               1\n",
       "SALE PRICE                                   1\n",
       "SALE DATE                                    1\n",
       "dtype: int64"
      ]
     },
     "execution_count": 21,
     "metadata": {},
     "output_type": "execute_result"
    }
   ],
   "source": [
    "#Showing the total null values that exist in each columns\n",
    "df.isnull().sum()"
   ]
  },
  {
   "cell_type": "code",
   "execution_count": 22,
   "metadata": {
    "scrolled": true
   },
   "outputs": [
    {
     "data": {
      "text/plain": [
       "BOROUGH                                   0.00\n",
       "NEIGHBORHOOD                              0.00\n",
       "BUILDING CLASS CATEGORY                   0.00\n",
       "TAX CLASS AS OF FINAL ROLL 18/19          0.23\n",
       "BLOCK                                     0.00\n",
       "LOT                                       0.00\n",
       "BUILDING CLASS AS OF FINAL ROLL 18/19     0.23\n",
       "ADDRESS                                   0.00\n",
       "APARTMENT NUMBER                         78.14\n",
       "ZIP CODE                                  0.02\n",
       "RESIDENTIAL UNITS                        20.45\n",
       "COMMERCIAL UNITS                         20.45\n",
       "TOTAL UNITS                              20.45\n",
       "LAND SQUARE FEET                         20.45\n",
       "GROSS SQUARE FEET                        20.45\n",
       "YEAR BUILT                                7.18\n",
       "TAX CLASS AT TIME OF SALE                 0.00\n",
       "BUILDING CLASS AT TIME OF SALE            0.00\n",
       "SALE PRICE                                0.00\n",
       "SALE DATE                                 0.00\n",
       "dtype: float64"
      ]
     },
     "execution_count": 22,
     "metadata": {},
     "output_type": "execute_result"
    }
   ],
   "source": [
    "#Shows the percentage of null values for each columns\n",
    "df.isnull().mean().round(4).mul(100)"
   ]
  },
  {
   "cell_type": "code",
   "execution_count": 23,
   "metadata": {},
   "outputs": [],
   "source": [
    "#Removing the apartment column since most of the (78.18%) record are NA values\n",
    "df = df.drop([\"APARTMENT NUMBER\"],axis=1)"
   ]
  },
  {
   "cell_type": "code",
   "execution_count": 24,
   "metadata": {
    "scrolled": true
   },
   "outputs": [
    {
     "data": {
      "text/html": [
       "<div>\n",
       "<style scoped>\n",
       "    .dataframe tbody tr th:only-of-type {\n",
       "        vertical-align: middle;\n",
       "    }\n",
       "\n",
       "    .dataframe tbody tr th {\n",
       "        vertical-align: top;\n",
       "    }\n",
       "\n",
       "    .dataframe thead th {\n",
       "        text-align: right;\n",
       "    }\n",
       "</style>\n",
       "<table border=\"1\" class=\"dataframe\">\n",
       "  <thead>\n",
       "    <tr style=\"text-align: right;\">\n",
       "      <th></th>\n",
       "      <th>BLOCK</th>\n",
       "      <th>LOT</th>\n",
       "      <th>ZIP CODE</th>\n",
       "      <th>RESIDENTIAL UNITS</th>\n",
       "      <th>COMMERCIAL UNITS</th>\n",
       "      <th>TOTAL UNITS</th>\n",
       "      <th>LAND SQUARE FEET</th>\n",
       "      <th>GROSS SQUARE FEET</th>\n",
       "      <th>YEAR BUILT</th>\n",
       "      <th>TAX CLASS AT TIME OF SALE</th>\n",
       "      <th>SALE PRICE</th>\n",
       "    </tr>\n",
       "  </thead>\n",
       "  <tbody>\n",
       "    <tr>\n",
       "      <th>count</th>\n",
       "      <td>83834.000000</td>\n",
       "      <td>83834.000000</td>\n",
       "      <td>83820.000000</td>\n",
       "      <td>66691.000000</td>\n",
       "      <td>66691.000000</td>\n",
       "      <td>66691.000000</td>\n",
       "      <td>6.669100e+04</td>\n",
       "      <td>6.669100e+04</td>\n",
       "      <td>77812.000000</td>\n",
       "      <td>83834.000000</td>\n",
       "      <td>8.383400e+04</td>\n",
       "    </tr>\n",
       "    <tr>\n",
       "      <th>mean</th>\n",
       "      <td>4409.583582</td>\n",
       "      <td>352.130377</td>\n",
       "      <td>10854.620043</td>\n",
       "      <td>2.182288</td>\n",
       "      <td>0.322337</td>\n",
       "      <td>2.504626</td>\n",
       "      <td>4.666363e+03</td>\n",
       "      <td>3.474658e+03</td>\n",
       "      <td>1950.498458</td>\n",
       "      <td>1.615717</td>\n",
       "      <td>1.396584e+06</td>\n",
       "    </tr>\n",
       "    <tr>\n",
       "      <th>std</th>\n",
       "      <td>3671.538215</td>\n",
       "      <td>639.757986</td>\n",
       "      <td>561.527105</td>\n",
       "      <td>10.391352</td>\n",
       "      <td>6.468853</td>\n",
       "      <td>12.294148</td>\n",
       "      <td>1.173864e+05</td>\n",
       "      <td>2.964271e+04</td>\n",
       "      <td>34.833403</td>\n",
       "      <td>0.793163</td>\n",
       "      <td>1.303571e+07</td>\n",
       "    </tr>\n",
       "    <tr>\n",
       "      <th>min</th>\n",
       "      <td>1.000000</td>\n",
       "      <td>1.000000</td>\n",
       "      <td>10001.000000</td>\n",
       "      <td>0.000000</td>\n",
       "      <td>0.000000</td>\n",
       "      <td>0.000000</td>\n",
       "      <td>0.000000e+00</td>\n",
       "      <td>0.000000e+00</td>\n",
       "      <td>1018.000000</td>\n",
       "      <td>1.000000</td>\n",
       "      <td>0.000000e+00</td>\n",
       "    </tr>\n",
       "    <tr>\n",
       "      <th>25%</th>\n",
       "      <td>1354.000000</td>\n",
       "      <td>22.000000</td>\n",
       "      <td>10306.000000</td>\n",
       "      <td>1.000000</td>\n",
       "      <td>0.000000</td>\n",
       "      <td>1.000000</td>\n",
       "      <td>0.000000e+00</td>\n",
       "      <td>0.000000e+00</td>\n",
       "      <td>1925.000000</td>\n",
       "      <td>1.000000</td>\n",
       "      <td>0.000000e+00</td>\n",
       "    </tr>\n",
       "    <tr>\n",
       "      <th>50%</th>\n",
       "      <td>3551.000000</td>\n",
       "      <td>49.000000</td>\n",
       "      <td>11209.000000</td>\n",
       "      <td>1.000000</td>\n",
       "      <td>0.000000</td>\n",
       "      <td>1.000000</td>\n",
       "      <td>2.058000e+03</td>\n",
       "      <td>1.488000e+03</td>\n",
       "      <td>1945.000000</td>\n",
       "      <td>1.000000</td>\n",
       "      <td>4.512300e+05</td>\n",
       "    </tr>\n",
       "    <tr>\n",
       "      <th>75%</th>\n",
       "      <td>6562.500000</td>\n",
       "      <td>307.000000</td>\n",
       "      <td>11358.000000</td>\n",
       "      <td>2.000000</td>\n",
       "      <td>0.000000</td>\n",
       "      <td>2.000000</td>\n",
       "      <td>3.125000e+03</td>\n",
       "      <td>2.376500e+03</td>\n",
       "      <td>1970.000000</td>\n",
       "      <td>2.000000</td>\n",
       "      <td>8.750000e+05</td>\n",
       "    </tr>\n",
       "    <tr>\n",
       "      <th>max</th>\n",
       "      <td>16350.000000</td>\n",
       "      <td>9109.000000</td>\n",
       "      <td>11697.000000</td>\n",
       "      <td>826.000000</td>\n",
       "      <td>842.000000</td>\n",
       "      <td>842.000000</td>\n",
       "      <td>1.985040e+07</td>\n",
       "      <td>2.400000e+06</td>\n",
       "      <td>2020.000000</td>\n",
       "      <td>4.000000</td>\n",
       "      <td>2.155000e+09</td>\n",
       "    </tr>\n",
       "  </tbody>\n",
       "</table>\n",
       "</div>"
      ],
      "text/plain": [
       "              BLOCK           LOT      ZIP CODE  RESIDENTIAL UNITS  \\\n",
       "count  83834.000000  83834.000000  83820.000000       66691.000000   \n",
       "mean    4409.583582    352.130377  10854.620043           2.182288   \n",
       "std     3671.538215    639.757986    561.527105          10.391352   \n",
       "min        1.000000      1.000000  10001.000000           0.000000   \n",
       "25%     1354.000000     22.000000  10306.000000           1.000000   \n",
       "50%     3551.000000     49.000000  11209.000000           1.000000   \n",
       "75%     6562.500000    307.000000  11358.000000           2.000000   \n",
       "max    16350.000000   9109.000000  11697.000000         826.000000   \n",
       "\n",
       "       COMMERCIAL UNITS   TOTAL UNITS  LAND SQUARE FEET  GROSS SQUARE FEET  \\\n",
       "count      66691.000000  66691.000000      6.669100e+04       6.669100e+04   \n",
       "mean           0.322337      2.504626      4.666363e+03       3.474658e+03   \n",
       "std            6.468853     12.294148      1.173864e+05       2.964271e+04   \n",
       "min            0.000000      0.000000      0.000000e+00       0.000000e+00   \n",
       "25%            0.000000      1.000000      0.000000e+00       0.000000e+00   \n",
       "50%            0.000000      1.000000      2.058000e+03       1.488000e+03   \n",
       "75%            0.000000      2.000000      3.125000e+03       2.376500e+03   \n",
       "max          842.000000    842.000000      1.985040e+07       2.400000e+06   \n",
       "\n",
       "         YEAR BUILT  TAX CLASS AT TIME OF SALE    SALE PRICE  \n",
       "count  77812.000000               83834.000000  8.383400e+04  \n",
       "mean    1950.498458                   1.615717  1.396584e+06  \n",
       "std       34.833403                   0.793163  1.303571e+07  \n",
       "min     1018.000000                   1.000000  0.000000e+00  \n",
       "25%     1925.000000                   1.000000  0.000000e+00  \n",
       "50%     1945.000000                   1.000000  4.512300e+05  \n",
       "75%     1970.000000                   2.000000  8.750000e+05  \n",
       "max     2020.000000                   4.000000  2.155000e+09  "
      ]
     },
     "execution_count": 24,
     "metadata": {},
     "output_type": "execute_result"
    }
   ],
   "source": [
    "#Shows the statistics of all the columns\n",
    "df.describe()"
   ]
  },
  {
   "cell_type": "code",
   "execution_count": 25,
   "metadata": {},
   "outputs": [
    {
     "name": "stderr",
     "output_type": "stream",
     "text": [
      "<ipython-input-25-63fddb4bfac7>:2: SettingWithCopyWarning: \n",
      "A value is trying to be set on a copy of a slice from a DataFrame.\n",
      "Try using .loc[row_indexer,col_indexer] = value instead\n",
      "\n",
      "See the caveats in the documentation: https://pandas.pydata.org/pandas-docs/stable/user_guide/indexing.html#returning-a-view-versus-a-copy\n",
      "  age_records[\"Sale Year\"] = age_records[\"SALE DATE\"].map(lambda x:x.year)\n"
     ]
    },
    {
     "data": {
      "text/html": [
       "<div>\n",
       "<style scoped>\n",
       "    .dataframe tbody tr th:only-of-type {\n",
       "        vertical-align: middle;\n",
       "    }\n",
       "\n",
       "    .dataframe tbody tr th {\n",
       "        vertical-align: top;\n",
       "    }\n",
       "\n",
       "    .dataframe thead th {\n",
       "        text-align: right;\n",
       "    }\n",
       "</style>\n",
       "<table border=\"1\" class=\"dataframe\">\n",
       "  <thead>\n",
       "    <tr style=\"text-align: right;\">\n",
       "      <th></th>\n",
       "      <th>YEAR BUILT</th>\n",
       "      <th>SALE DATE</th>\n",
       "      <th>SALE PRICE</th>\n",
       "      <th>Sale Year</th>\n",
       "    </tr>\n",
       "  </thead>\n",
       "  <tbody>\n",
       "    <tr>\n",
       "      <th>0</th>\n",
       "      <td>1899.0</td>\n",
       "      <td>2019-07-23</td>\n",
       "      <td>388500.0</td>\n",
       "      <td>2019.0</td>\n",
       "    </tr>\n",
       "    <tr>\n",
       "      <th>1</th>\n",
       "      <td>1910.0</td>\n",
       "      <td>2019-12-06</td>\n",
       "      <td>110000.0</td>\n",
       "      <td>2019.0</td>\n",
       "    </tr>\n",
       "    <tr>\n",
       "      <th>2</th>\n",
       "      <td>1901.0</td>\n",
       "      <td>2019-03-08</td>\n",
       "      <td>470000.0</td>\n",
       "      <td>2019.0</td>\n",
       "    </tr>\n",
       "    <tr>\n",
       "      <th>3</th>\n",
       "      <td>1899.0</td>\n",
       "      <td>2019-05-24</td>\n",
       "      <td>420000.0</td>\n",
       "      <td>2019.0</td>\n",
       "    </tr>\n",
       "    <tr>\n",
       "      <th>4</th>\n",
       "      <td>1993.0</td>\n",
       "      <td>2019-06-12</td>\n",
       "      <td>0.0</td>\n",
       "      <td>2019.0</td>\n",
       "    </tr>\n",
       "    <tr>\n",
       "      <th>...</th>\n",
       "      <td>...</td>\n",
       "      <td>...</td>\n",
       "      <td>...</td>\n",
       "      <td>...</td>\n",
       "    </tr>\n",
       "    <tr>\n",
       "      <th>8366</th>\n",
       "      <td>2001.0</td>\n",
       "      <td>2019-08-20</td>\n",
       "      <td>637500.0</td>\n",
       "      <td>2019.0</td>\n",
       "    </tr>\n",
       "    <tr>\n",
       "      <th>8367</th>\n",
       "      <td>2018.0</td>\n",
       "      <td>2019-04-24</td>\n",
       "      <td>599701.0</td>\n",
       "      <td>2019.0</td>\n",
       "    </tr>\n",
       "    <tr>\n",
       "      <th>8368</th>\n",
       "      <td>2018.0</td>\n",
       "      <td>2019-04-22</td>\n",
       "      <td>896060.0</td>\n",
       "      <td>2019.0</td>\n",
       "    </tr>\n",
       "    <tr>\n",
       "      <th>8369</th>\n",
       "      <td>NaN</td>\n",
       "      <td>2019-08-22</td>\n",
       "      <td>26000.0</td>\n",
       "      <td>2019.0</td>\n",
       "    </tr>\n",
       "    <tr>\n",
       "      <th>8370</th>\n",
       "      <td>2011.0</td>\n",
       "      <td>2019-05-22</td>\n",
       "      <td>0.0</td>\n",
       "      <td>2019.0</td>\n",
       "    </tr>\n",
       "  </tbody>\n",
       "</table>\n",
       "<p>83835 rows × 4 columns</p>\n",
       "</div>"
      ],
      "text/plain": [
       "      YEAR BUILT  SALE DATE  SALE PRICE  Sale Year\n",
       "0         1899.0 2019-07-23    388500.0     2019.0\n",
       "1         1910.0 2019-12-06    110000.0     2019.0\n",
       "2         1901.0 2019-03-08    470000.0     2019.0\n",
       "3         1899.0 2019-05-24    420000.0     2019.0\n",
       "4         1993.0 2019-06-12         0.0     2019.0\n",
       "...          ...        ...         ...        ...\n",
       "8366      2001.0 2019-08-20    637500.0     2019.0\n",
       "8367      2018.0 2019-04-24    599701.0     2019.0\n",
       "8368      2018.0 2019-04-22    896060.0     2019.0\n",
       "8369         NaN 2019-08-22     26000.0     2019.0\n",
       "8370      2011.0 2019-05-22         0.0     2019.0\n",
       "\n",
       "[83835 rows x 4 columns]"
      ]
     },
     "execution_count": 25,
     "metadata": {},
     "output_type": "execute_result"
    }
   ],
   "source": [
    "age_records = df[[\"YEAR BUILT\",\"SALE DATE\",\"SALE PRICE\"]]\n",
    "age_records[\"Sale Year\"] = age_records[\"SALE DATE\"].map(lambda x:x.year)\n",
    "age_records"
   ]
  },
  {
   "cell_type": "code",
   "execution_count": 26,
   "metadata": {},
   "outputs": [
    {
     "name": "stderr",
     "output_type": "stream",
     "text": [
      "<ipython-input-26-24ab72c99605>:1: SettingWithCopyWarning: \n",
      "A value is trying to be set on a copy of a slice from a DataFrame.\n",
      "Try using .loc[row_indexer,col_indexer] = value instead\n",
      "\n",
      "See the caveats in the documentation: https://pandas.pydata.org/pandas-docs/stable/user_guide/indexing.html#returning-a-view-versus-a-copy\n",
      "  age_records[\"Building Age\"] = 2021-age_records[\"YEAR BUILT\"]\n"
     ]
    },
    {
     "data": {
      "text/html": [
       "<div>\n",
       "<style scoped>\n",
       "    .dataframe tbody tr th:only-of-type {\n",
       "        vertical-align: middle;\n",
       "    }\n",
       "\n",
       "    .dataframe tbody tr th {\n",
       "        vertical-align: top;\n",
       "    }\n",
       "\n",
       "    .dataframe thead th {\n",
       "        text-align: right;\n",
       "    }\n",
       "</style>\n",
       "<table border=\"1\" class=\"dataframe\">\n",
       "  <thead>\n",
       "    <tr style=\"text-align: right;\">\n",
       "      <th></th>\n",
       "      <th>YEAR BUILT</th>\n",
       "      <th>SALE DATE</th>\n",
       "      <th>SALE PRICE</th>\n",
       "      <th>Sale Year</th>\n",
       "      <th>Building Age</th>\n",
       "    </tr>\n",
       "  </thead>\n",
       "  <tbody>\n",
       "    <tr>\n",
       "      <th>0</th>\n",
       "      <td>1899.0</td>\n",
       "      <td>2019-07-23</td>\n",
       "      <td>388500.0</td>\n",
       "      <td>2019.0</td>\n",
       "      <td>122.0</td>\n",
       "    </tr>\n",
       "    <tr>\n",
       "      <th>1</th>\n",
       "      <td>1910.0</td>\n",
       "      <td>2019-12-06</td>\n",
       "      <td>110000.0</td>\n",
       "      <td>2019.0</td>\n",
       "      <td>111.0</td>\n",
       "    </tr>\n",
       "    <tr>\n",
       "      <th>2</th>\n",
       "      <td>1901.0</td>\n",
       "      <td>2019-03-08</td>\n",
       "      <td>470000.0</td>\n",
       "      <td>2019.0</td>\n",
       "      <td>120.0</td>\n",
       "    </tr>\n",
       "    <tr>\n",
       "      <th>3</th>\n",
       "      <td>1899.0</td>\n",
       "      <td>2019-05-24</td>\n",
       "      <td>420000.0</td>\n",
       "      <td>2019.0</td>\n",
       "      <td>122.0</td>\n",
       "    </tr>\n",
       "    <tr>\n",
       "      <th>4</th>\n",
       "      <td>1993.0</td>\n",
       "      <td>2019-06-12</td>\n",
       "      <td>0.0</td>\n",
       "      <td>2019.0</td>\n",
       "      <td>28.0</td>\n",
       "    </tr>\n",
       "    <tr>\n",
       "      <th>...</th>\n",
       "      <td>...</td>\n",
       "      <td>...</td>\n",
       "      <td>...</td>\n",
       "      <td>...</td>\n",
       "      <td>...</td>\n",
       "    </tr>\n",
       "    <tr>\n",
       "      <th>8366</th>\n",
       "      <td>2001.0</td>\n",
       "      <td>2019-08-20</td>\n",
       "      <td>637500.0</td>\n",
       "      <td>2019.0</td>\n",
       "      <td>20.0</td>\n",
       "    </tr>\n",
       "    <tr>\n",
       "      <th>8367</th>\n",
       "      <td>2018.0</td>\n",
       "      <td>2019-04-24</td>\n",
       "      <td>599701.0</td>\n",
       "      <td>2019.0</td>\n",
       "      <td>3.0</td>\n",
       "    </tr>\n",
       "    <tr>\n",
       "      <th>8368</th>\n",
       "      <td>2018.0</td>\n",
       "      <td>2019-04-22</td>\n",
       "      <td>896060.0</td>\n",
       "      <td>2019.0</td>\n",
       "      <td>3.0</td>\n",
       "    </tr>\n",
       "    <tr>\n",
       "      <th>8369</th>\n",
       "      <td>NaN</td>\n",
       "      <td>2019-08-22</td>\n",
       "      <td>26000.0</td>\n",
       "      <td>2019.0</td>\n",
       "      <td>NaN</td>\n",
       "    </tr>\n",
       "    <tr>\n",
       "      <th>8370</th>\n",
       "      <td>2011.0</td>\n",
       "      <td>2019-05-22</td>\n",
       "      <td>0.0</td>\n",
       "      <td>2019.0</td>\n",
       "      <td>10.0</td>\n",
       "    </tr>\n",
       "  </tbody>\n",
       "</table>\n",
       "<p>83835 rows × 5 columns</p>\n",
       "</div>"
      ],
      "text/plain": [
       "      YEAR BUILT  SALE DATE  SALE PRICE  Sale Year  Building Age\n",
       "0         1899.0 2019-07-23    388500.0     2019.0         122.0\n",
       "1         1910.0 2019-12-06    110000.0     2019.0         111.0\n",
       "2         1901.0 2019-03-08    470000.0     2019.0         120.0\n",
       "3         1899.0 2019-05-24    420000.0     2019.0         122.0\n",
       "4         1993.0 2019-06-12         0.0     2019.0          28.0\n",
       "...          ...        ...         ...        ...           ...\n",
       "8366      2001.0 2019-08-20    637500.0     2019.0          20.0\n",
       "8367      2018.0 2019-04-24    599701.0     2019.0           3.0\n",
       "8368      2018.0 2019-04-22    896060.0     2019.0           3.0\n",
       "8369         NaN 2019-08-22     26000.0     2019.0           NaN\n",
       "8370      2011.0 2019-05-22         0.0     2019.0          10.0\n",
       "\n",
       "[83835 rows x 5 columns]"
      ]
     },
     "execution_count": 26,
     "metadata": {},
     "output_type": "execute_result"
    }
   ],
   "source": [
    "age_records[\"Building Age\"] = 2021-age_records[\"YEAR BUILT\"]\n",
    "age_records"
   ]
  },
  {
   "cell_type": "code",
   "execution_count": 27,
   "metadata": {},
   "outputs": [
    {
     "data": {
      "text/html": [
       "<div>\n",
       "<style scoped>\n",
       "    .dataframe tbody tr th:only-of-type {\n",
       "        vertical-align: middle;\n",
       "    }\n",
       "\n",
       "    .dataframe tbody tr th {\n",
       "        vertical-align: top;\n",
       "    }\n",
       "\n",
       "    .dataframe thead th {\n",
       "        text-align: right;\n",
       "    }\n",
       "</style>\n",
       "<table border=\"1\" class=\"dataframe\">\n",
       "  <thead>\n",
       "    <tr style=\"text-align: right;\">\n",
       "      <th></th>\n",
       "      <th>YEAR BUILT</th>\n",
       "      <th>SALE DATE</th>\n",
       "      <th>SALE PRICE</th>\n",
       "      <th>Sale Year</th>\n",
       "      <th>Building Age</th>\n",
       "    </tr>\n",
       "  </thead>\n",
       "  <tbody>\n",
       "    <tr>\n",
       "      <th>0</th>\n",
       "      <td>1899.0</td>\n",
       "      <td>2019-07-23</td>\n",
       "      <td>388500.0</td>\n",
       "      <td>2019.0</td>\n",
       "      <td>122.0</td>\n",
       "    </tr>\n",
       "    <tr>\n",
       "      <th>1</th>\n",
       "      <td>1910.0</td>\n",
       "      <td>2019-12-06</td>\n",
       "      <td>110000.0</td>\n",
       "      <td>2019.0</td>\n",
       "      <td>111.0</td>\n",
       "    </tr>\n",
       "    <tr>\n",
       "      <th>2</th>\n",
       "      <td>1901.0</td>\n",
       "      <td>2019-03-08</td>\n",
       "      <td>470000.0</td>\n",
       "      <td>2019.0</td>\n",
       "      <td>120.0</td>\n",
       "    </tr>\n",
       "    <tr>\n",
       "      <th>3</th>\n",
       "      <td>1899.0</td>\n",
       "      <td>2019-05-24</td>\n",
       "      <td>420000.0</td>\n",
       "      <td>2019.0</td>\n",
       "      <td>122.0</td>\n",
       "    </tr>\n",
       "    <tr>\n",
       "      <th>4</th>\n",
       "      <td>1993.0</td>\n",
       "      <td>2019-06-12</td>\n",
       "      <td>0.0</td>\n",
       "      <td>2019.0</td>\n",
       "      <td>28.0</td>\n",
       "    </tr>\n",
       "    <tr>\n",
       "      <th>...</th>\n",
       "      <td>...</td>\n",
       "      <td>...</td>\n",
       "      <td>...</td>\n",
       "      <td>...</td>\n",
       "      <td>...</td>\n",
       "    </tr>\n",
       "    <tr>\n",
       "      <th>8365</th>\n",
       "      <td>2001.0</td>\n",
       "      <td>2019-12-31</td>\n",
       "      <td>0.0</td>\n",
       "      <td>2019.0</td>\n",
       "      <td>20.0</td>\n",
       "    </tr>\n",
       "    <tr>\n",
       "      <th>8366</th>\n",
       "      <td>2001.0</td>\n",
       "      <td>2019-08-20</td>\n",
       "      <td>637500.0</td>\n",
       "      <td>2019.0</td>\n",
       "      <td>20.0</td>\n",
       "    </tr>\n",
       "    <tr>\n",
       "      <th>8367</th>\n",
       "      <td>2018.0</td>\n",
       "      <td>2019-04-24</td>\n",
       "      <td>599701.0</td>\n",
       "      <td>2019.0</td>\n",
       "      <td>3.0</td>\n",
       "    </tr>\n",
       "    <tr>\n",
       "      <th>8368</th>\n",
       "      <td>2018.0</td>\n",
       "      <td>2019-04-22</td>\n",
       "      <td>896060.0</td>\n",
       "      <td>2019.0</td>\n",
       "      <td>3.0</td>\n",
       "    </tr>\n",
       "    <tr>\n",
       "      <th>8370</th>\n",
       "      <td>2011.0</td>\n",
       "      <td>2019-05-22</td>\n",
       "      <td>0.0</td>\n",
       "      <td>2019.0</td>\n",
       "      <td>10.0</td>\n",
       "    </tr>\n",
       "  </tbody>\n",
       "</table>\n",
       "<p>77810 rows × 5 columns</p>\n",
       "</div>"
      ],
      "text/plain": [
       "      YEAR BUILT  SALE DATE  SALE PRICE  Sale Year  Building Age\n",
       "0         1899.0 2019-07-23    388500.0     2019.0         122.0\n",
       "1         1910.0 2019-12-06    110000.0     2019.0         111.0\n",
       "2         1901.0 2019-03-08    470000.0     2019.0         120.0\n",
       "3         1899.0 2019-05-24    420000.0     2019.0         122.0\n",
       "4         1993.0 2019-06-12         0.0     2019.0          28.0\n",
       "...          ...        ...         ...        ...           ...\n",
       "8365      2001.0 2019-12-31         0.0     2019.0          20.0\n",
       "8366      2001.0 2019-08-20    637500.0     2019.0          20.0\n",
       "8367      2018.0 2019-04-24    599701.0     2019.0           3.0\n",
       "8368      2018.0 2019-04-22    896060.0     2019.0           3.0\n",
       "8370      2011.0 2019-05-22         0.0     2019.0          10.0\n",
       "\n",
       "[77810 rows x 5 columns]"
      ]
     },
     "execution_count": 27,
     "metadata": {},
     "output_type": "execute_result"
    }
   ],
   "source": [
    "age_records = age_records[(age_records[\"Building Age\"] <=300) & (age_records[\"Building Age\"] >0)]\n",
    "age_records"
   ]
  },
  {
   "cell_type": "code",
   "execution_count": 28,
   "metadata": {},
   "outputs": [
    {
     "data": {
      "image/png": "[encoded data removed]",
      "text/plain": [
       "<Figure size 864x720 with 1 Axes>"
      ]
     },
     "metadata": {
      "needs_background": "light"
     },
     "output_type": "display_data"
    }
   ],
   "source": [
    "plt.figure(figsize=(12,10))\n",
    "sns.regplot(x=age_records[\"Building Age\"], y=age_records[\"SALE PRICE\"], data=age_records,fit_reg=False, scatter_kws={'alpha':0.6})\n",
    "plt.xlabel('\\nBuilding Age')\n",
    "plt.ylabel('SALE PRICE\\n')\n",
    "#Remove the scientific notation\n",
    "plt.gcf().axes[0].yaxis.get_major_formatter().set_scientific(False)\n",
    "#Add coma on the Y-axis\n",
    "plt.gca().yaxis.set_major_formatter(plt.matplotlib.ticker.StrMethodFormatter('{x:,.0f}'))\n",
    "plt.title(\"Sale Price by Building Age\")\n",
    "plt.show()"
   ]
  },
  {
   "cell_type": "code",
   "execution_count": 29,
   "metadata": {},
   "outputs": [
    {
     "data": {
      "text/html": [
       "<div>\n",
       "<style scoped>\n",
       "    .dataframe tbody tr th:only-of-type {\n",
       "        vertical-align: middle;\n",
       "    }\n",
       "\n",
       "    .dataframe tbody tr th {\n",
       "        vertical-align: top;\n",
       "    }\n",
       "\n",
       "    .dataframe thead th {\n",
       "        text-align: right;\n",
       "    }\n",
       "</style>\n",
       "<table border=\"1\" class=\"dataframe\">\n",
       "  <thead>\n",
       "    <tr style=\"text-align: right;\">\n",
       "      <th></th>\n",
       "      <th>BOROUGH</th>\n",
       "      <th>size</th>\n",
       "    </tr>\n",
       "  </thead>\n",
       "  <tbody>\n",
       "    <tr>\n",
       "      <th>0</th>\n",
       "      <td>Queens</td>\n",
       "      <td>26395</td>\n",
       "    </tr>\n",
       "    <tr>\n",
       "      <th>1</th>\n",
       "      <td>Brooklyn</td>\n",
       "      <td>23252</td>\n",
       "    </tr>\n",
       "    <tr>\n",
       "      <th>2</th>\n",
       "      <td>Manhattan</td>\n",
       "      <td>17558</td>\n",
       "    </tr>\n",
       "    <tr>\n",
       "      <th>3</th>\n",
       "      <td>Staten Island</td>\n",
       "      <td>8363</td>\n",
       "    </tr>\n",
       "    <tr>\n",
       "      <th>4</th>\n",
       "      <td>Bronx</td>\n",
       "      <td>8266</td>\n",
       "    </tr>\n",
       "  </tbody>\n",
       "</table>\n",
       "</div>"
      ],
      "text/plain": [
       "         BOROUGH   size\n",
       "0         Queens  26395\n",
       "1       Brooklyn  23252\n",
       "2      Manhattan  17558\n",
       "3  Staten Island   8363\n",
       "4          Bronx   8266"
      ]
     },
     "execution_count": 29,
     "metadata": {},
     "output_type": "execute_result"
    }
   ],
   "source": [
    "borough_count = df.groupby([\"BOROUGH\"]).agg({\"BOROUGH\":\"size\"})\n",
    "borough_count = borough_count.rename(columns={\"BOROUGH\":\"size\"})\n",
    "borough_count = borough_count.sort_values(\"size\",ascending=False)\n",
    "borough_count.reset_index(inplace=True) \n",
    "borough_count"
   ]
  },
  {
   "cell_type": "code",
   "execution_count": 30,
   "metadata": {},
   "outputs": [
    {
     "data": {
      "text/plain": [
       "Text(0.5, 1.0, 'Numbers of property Sold by Borough')"
      ]
     },
     "execution_count": 30,
     "metadata": {},
     "output_type": "execute_result"
    },
    {
     "data": {
      "image/png": "[encoded data removed]",
      "text/plain": [
       "<Figure size 864x720 with 1 Axes>"
      ]
     },
     "metadata": {
      "needs_background": "light"
     },
     "output_type": "display_data"
    }
   ],
   "source": [
    "plt.figure(figsize=(12,10))\n",
    "color = ['steelblue','salmon','skyblue','peru','plum']\n",
    "plt.bar(borough_count[\"BOROUGH\"],borough_count[\"size\"],color=color)\n",
    "#Add coma on the Y-axis\n",
    "plt.gca().yaxis.set_major_formatter(plt.matplotlib.ticker.StrMethodFormatter('{x:,.0f}'))\n",
    "plt.xlabel(\"\\nBorough\")\n",
    "plt.ylabel(\"Number of property\\n\")\n",
    "plt.title(\"Numbers of property Sold by Borough\")"
   ]
  },
  {
   "cell_type": "code",
   "execution_count": 87,
   "metadata": {},
   "outputs": [
    {
     "data": {
      "text/html": [
       "<div>\n",
       "<style scoped>\n",
       "    .dataframe tbody tr th:only-of-type {\n",
       "        vertical-align: middle;\n",
       "    }\n",
       "\n",
       "    .dataframe tbody tr th {\n",
       "        vertical-align: top;\n",
       "    }\n",
       "\n",
       "    .dataframe thead th {\n",
       "        text-align: right;\n",
       "    }\n",
       "</style>\n",
       "<table border=\"1\" class=\"dataframe\">\n",
       "  <thead>\n",
       "    <tr style=\"text-align: right;\">\n",
       "      <th></th>\n",
       "      <th>BOROUGH</th>\n",
       "      <th>SALE PRICE</th>\n",
       "    </tr>\n",
       "  </thead>\n",
       "  <tbody>\n",
       "    <tr>\n",
       "      <th>0</th>\n",
       "      <td>Manhattan</td>\n",
       "      <td>3645295.23</td>\n",
       "    </tr>\n",
       "    <tr>\n",
       "      <th>1</th>\n",
       "      <td>Brooklyn</td>\n",
       "      <td>1038509.86</td>\n",
       "    </tr>\n",
       "    <tr>\n",
       "      <th>2</th>\n",
       "      <td>Queens</td>\n",
       "      <td>754241.49</td>\n",
       "    </tr>\n",
       "    <tr>\n",
       "      <th>3</th>\n",
       "      <td>Bronx</td>\n",
       "      <td>670412.55</td>\n",
       "    </tr>\n",
       "    <tr>\n",
       "      <th>4</th>\n",
       "      <td>Staten Island</td>\n",
       "      <td>416106.20</td>\n",
       "    </tr>\n",
       "  </tbody>\n",
       "</table>\n",
       "</div>"
      ],
      "text/plain": [
       "         BOROUGH  SALE PRICE\n",
       "0      Manhattan  3645295.23\n",
       "1       Brooklyn  1038509.86\n",
       "2         Queens   754241.49\n",
       "3          Bronx   670412.55\n",
       "4  Staten Island   416106.20"
      ]
     },
     "execution_count": 87,
     "metadata": {},
     "output_type": "execute_result"
    }
   ],
   "source": [
    "avg_borough = df.groupby([\"BOROUGH\"]).agg({\"SALE PRICE\":\"mean\"}).sort_values(\"SALE PRICE\", ascending=False).reset_index() \n",
    "avg_borough"
   ]
  },
  {
   "cell_type": "code",
   "execution_count": 88,
   "metadata": {},
   "outputs": [
    {
     "data": {
      "image/png": "[encoded data removed]",
      "text/plain": [
       "<Figure size 864x720 with 1 Axes>"
      ]
     },
     "metadata": {
      "needs_background": "light"
     },
     "output_type": "display_data"
    }
   ],
   "source": [
    "plt.figure(figsize=(12,10))\n",
    "color = ['teal','brown','darkorange','royalblue','darkolivegreen']\n",
    "plt.bar(avg_borough[\"BOROUGH\"],avg_borough[\"SALE PRICE\"],color=color)\n",
    "#Remove the scientific notation\n",
    "plt.gcf().axes[0].yaxis.get_major_formatter().set_scientific(False)\n",
    "#Add coma on the Y-axis\n",
    "plt.gca().yaxis.set_major_formatter(plt.matplotlib.ticker.StrMethodFormatter('{x:,.0f}'))\n",
    "plt.xlabel(\"\\nBorough\")\n",
    "plt.ylabel(\"Average Sale Price\\n\")\n",
    "plt.title(\"Average price of Building solf by Borough\")\n",
    "plt.show()"
   ]
  },
  {
   "cell_type": "code",
   "execution_count": 33,
   "metadata": {},
   "outputs": [
    {
     "data": {
      "text/html": [
       "<div>\n",
       "<style scoped>\n",
       "    .dataframe tbody tr th:only-of-type {\n",
       "        vertical-align: middle;\n",
       "    }\n",
       "\n",
       "    .dataframe tbody tr th {\n",
       "        vertical-align: top;\n",
       "    }\n",
       "\n",
       "    .dataframe thead th {\n",
       "        text-align: right;\n",
       "    }\n",
       "</style>\n",
       "<table border=\"1\" class=\"dataframe\">\n",
       "  <thead>\n",
       "    <tr style=\"text-align: right;\">\n",
       "      <th></th>\n",
       "      <th>BOROUGH</th>\n",
       "      <th>GROSS SQUARE FEET</th>\n",
       "    </tr>\n",
       "  </thead>\n",
       "  <tbody>\n",
       "    <tr>\n",
       "      <th>0</th>\n",
       "      <td>Bronx</td>\n",
       "      <td>7348.461797</td>\n",
       "    </tr>\n",
       "    <tr>\n",
       "      <th>1</th>\n",
       "      <td>Manhattan</td>\n",
       "      <td>6643.796880</td>\n",
       "    </tr>\n",
       "    <tr>\n",
       "      <th>2</th>\n",
       "      <td>Brooklyn</td>\n",
       "      <td>2805.797886</td>\n",
       "    </tr>\n",
       "    <tr>\n",
       "      <th>3</th>\n",
       "      <td>Queens</td>\n",
       "      <td>2207.261587</td>\n",
       "    </tr>\n",
       "    <tr>\n",
       "      <th>4</th>\n",
       "      <td>Staten Island</td>\n",
       "      <td>1606.177708</td>\n",
       "    </tr>\n",
       "  </tbody>\n",
       "</table>\n",
       "</div>"
      ],
      "text/plain": [
       "         BOROUGH  GROSS SQUARE FEET\n",
       "0          Bronx        7348.461797\n",
       "1      Manhattan        6643.796880\n",
       "2       Brooklyn        2805.797886\n",
       "3         Queens        2207.261587\n",
       "4  Staten Island        1606.177708"
      ]
     },
     "execution_count": 33,
     "metadata": {},
     "output_type": "execute_result"
    }
   ],
   "source": [
    "borough_avg_gross = df.groupby(\"BOROUGH\").agg({\"GROSS SQUARE FEET\":\"mean\"}).sort_values(\"GROSS SQUARE FEET\",ascending=False).reset_index()\n",
    "borough_avg_gross"
   ]
  },
  {
   "cell_type": "code",
   "execution_count": 34,
   "metadata": {},
   "outputs": [
    {
     "data": {
      "text/plain": [
       "Text(0.5, 1.0, 'Average Gross Square feet by Borough')"
      ]
     },
     "execution_count": 34,
     "metadata": {},
     "output_type": "execute_result"
    },
    {
     "data": {
      "image/png": "[encoded data removed]",
      "text/plain": [
       "<Figure size 864x720 with 1 Axes>"
      ]
     },
     "metadata": {
      "needs_background": "light"
     },
     "output_type": "display_data"
    }
   ],
   "source": [
    "plt.figure(figsize=(12,10))\n",
    "sns.barplot(y= borough_avg_gross[\"BOROUGH\"], x= borough_avg_gross[\"GROSS SQUARE FEET\"], data = borough_avg_gross, palette=\"coolwarm\")\n",
    "#Add coma on the X-axis\n",
    "plt.gca().xaxis.set_major_formatter(plt.matplotlib.ticker.StrMethodFormatter('{x:,.0f}'))\n",
    "plt.ylabel(\"Borough\\n\")\n",
    "plt.xlabel(\"\\nAverage Gross Square Feet\")\n",
    "plt.title(\"Average Gross Square feet by Borough\")"
   ]
  },
  {
   "cell_type": "code",
   "execution_count": 35,
   "metadata": {
    "scrolled": true
   },
   "outputs": [
    {
     "data": {
      "text/plain": [
       "BOROUGH                                          object\n",
       "NEIGHBORHOOD                                     object\n",
       "BUILDING CLASS CATEGORY                          object\n",
       "TAX CLASS AS OF FINAL ROLL 18/19                 object\n",
       "BLOCK                                           float64\n",
       "LOT                                             float64\n",
       "BUILDING CLASS AS OF FINAL ROLL 18/19            object\n",
       "ADDRESS                                          object\n",
       "ZIP CODE                                        float64\n",
       "RESIDENTIAL UNITS                               float64\n",
       "COMMERCIAL UNITS                                float64\n",
       "TOTAL UNITS                                     float64\n",
       "LAND SQUARE FEET                                float64\n",
       "GROSS SQUARE FEET                               float64\n",
       "YEAR BUILT                                      float64\n",
       "TAX CLASS AT TIME OF SALE                       float64\n",
       "BUILDING CLASS AT TIME OF SALE                   object\n",
       "SALE PRICE                                      float64\n",
       "SALE DATE                                datetime64[ns]\n",
       "dtype: object"
      ]
     },
     "execution_count": 35,
     "metadata": {},
     "output_type": "execute_result"
    }
   ],
   "source": [
    "df.dtypes"
   ]
  },
  {
   "cell_type": "code",
   "execution_count": 36,
   "metadata": {},
   "outputs": [
    {
     "data": {
      "text/html": [
       "<div>\n",
       "<style scoped>\n",
       "    .dataframe tbody tr th:only-of-type {\n",
       "        vertical-align: middle;\n",
       "    }\n",
       "\n",
       "    .dataframe tbody tr th {\n",
       "        vertical-align: top;\n",
       "    }\n",
       "\n",
       "    .dataframe thead th {\n",
       "        text-align: right;\n",
       "    }\n",
       "</style>\n",
       "<table border=\"1\" class=\"dataframe\">\n",
       "  <thead>\n",
       "    <tr style=\"text-align: right;\">\n",
       "      <th></th>\n",
       "      <th>BUILDING CLASS CATEGORY</th>\n",
       "      <th>SALE PRICE</th>\n",
       "    </tr>\n",
       "  </thead>\n",
       "  <tbody>\n",
       "    <tr>\n",
       "      <th>0</th>\n",
       "      <td>39 TRANSPORTATION FACILITIES</td>\n",
       "      <td>75612500.00</td>\n",
       "    </tr>\n",
       "    <tr>\n",
       "      <th>1</th>\n",
       "      <td>25 LUXURY HOTELS</td>\n",
       "      <td>69382731.85</td>\n",
       "    </tr>\n",
       "    <tr>\n",
       "      <th>2</th>\n",
       "      <td>43 CONDO OFFICE BUILDINGS</td>\n",
       "      <td>37191931.39</td>\n",
       "    </tr>\n",
       "    <tr>\n",
       "      <th>3</th>\n",
       "      <td>21 OFFICE BUILDINGS</td>\n",
       "      <td>23637066.82</td>\n",
       "    </tr>\n",
       "    <tr>\n",
       "      <th>4</th>\n",
       "      <td>26 OTHER HOTELS</td>\n",
       "      <td>15984859.67</td>\n",
       "    </tr>\n",
       "    <tr>\n",
       "      <th>5</th>\n",
       "      <td>08 RENTALS - ELEVATOR APARTMENTS</td>\n",
       "      <td>14663477.77</td>\n",
       "    </tr>\n",
       "    <tr>\n",
       "      <th>6</th>\n",
       "      <td>32 HOSPITAL AND HEALTH FACILITIES</td>\n",
       "      <td>11946465.07</td>\n",
       "    </tr>\n",
       "    <tr>\n",
       "      <th>7</th>\n",
       "      <td>45 CONDO HOTELS</td>\n",
       "      <td>11117388.48</td>\n",
       "    </tr>\n",
       "    <tr>\n",
       "      <th>8</th>\n",
       "      <td>30 WAREHOUSES</td>\n",
       "      <td>10408332.83</td>\n",
       "    </tr>\n",
       "    <tr>\n",
       "      <th>9</th>\n",
       "      <td>31 COMMERCIAL VACANT LAND</td>\n",
       "      <td>9755168.60</td>\n",
       "    </tr>\n",
       "    <tr>\n",
       "      <th>10</th>\n",
       "      <td>28 COMMERCIAL CONDOS</td>\n",
       "      <td>9287834.84</td>\n",
       "    </tr>\n",
       "    <tr>\n",
       "      <th>11</th>\n",
       "      <td>46 CONDO STORE BUILDINGS</td>\n",
       "      <td>7126201.03</td>\n",
       "    </tr>\n",
       "    <tr>\n",
       "      <th>12</th>\n",
       "      <td>33 EDUCATIONAL FACILITIES</td>\n",
       "      <td>6727327.15</td>\n",
       "    </tr>\n",
       "    <tr>\n",
       "      <th>13</th>\n",
       "      <td>11 SPECIAL CONDO BILLING LOTS</td>\n",
       "      <td>5418269.93</td>\n",
       "    </tr>\n",
       "    <tr>\n",
       "      <th>14</th>\n",
       "      <td>23 LOFT BUILDINGS</td>\n",
       "      <td>5132954.55</td>\n",
       "    </tr>\n",
       "    <tr>\n",
       "      <th>15</th>\n",
       "      <td>29 COMMERCIAL GARAGES</td>\n",
       "      <td>5076624.46</td>\n",
       "    </tr>\n",
       "    <tr>\n",
       "      <th>16</th>\n",
       "      <td>27 FACTORIES</td>\n",
       "      <td>5035579.83</td>\n",
       "    </tr>\n",
       "    <tr>\n",
       "      <th>17</th>\n",
       "      <td>22 STORE BUILDINGS</td>\n",
       "      <td>4909391.52</td>\n",
       "    </tr>\n",
       "    <tr>\n",
       "      <th>18</th>\n",
       "      <td>37 RELIGIOUS FACILITIES</td>\n",
       "      <td>3314560.98</td>\n",
       "    </tr>\n",
       "    <tr>\n",
       "      <th>19</th>\n",
       "      <td>36 OUTDOOR RECREATIONAL FACILITIES</td>\n",
       "      <td>2840199.48</td>\n",
       "    </tr>\n",
       "    <tr>\n",
       "      <th>20</th>\n",
       "      <td>35 INDOOR PUBLIC AND CULTURAL FACILITIES</td>\n",
       "      <td>2611578.12</td>\n",
       "    </tr>\n",
       "    <tr>\n",
       "      <th>21</th>\n",
       "      <td>34 THEATRES</td>\n",
       "      <td>2011213.91</td>\n",
       "    </tr>\n",
       "    <tr>\n",
       "      <th>22</th>\n",
       "      <td>42 CONDO CULTURAL/MEDICAL/EDUCATIONAL/ETC</td>\n",
       "      <td>1870830.41</td>\n",
       "    </tr>\n",
       "    <tr>\n",
       "      <th>23</th>\n",
       "      <td>07 RENTALS - WALKUP APARTMENTS</td>\n",
       "      <td>1854135.47</td>\n",
       "    </tr>\n",
       "    <tr>\n",
       "      <th>24</th>\n",
       "      <td>38 ASYLUMS AND HOMES</td>\n",
       "      <td>1780489.89</td>\n",
       "    </tr>\n",
       "    <tr>\n",
       "      <th>25</th>\n",
       "      <td>13 CONDOS - ELEVATOR APARTMENTS</td>\n",
       "      <td>1699206.18</td>\n",
       "    </tr>\n",
       "    <tr>\n",
       "      <th>26</th>\n",
       "      <td>47 CONDO NON-BUSINESS STORAGE</td>\n",
       "      <td>1633398.16</td>\n",
       "    </tr>\n",
       "    <tr>\n",
       "      <th>27</th>\n",
       "      <td>16 CONDOS - 2-10 UNIT WITH COMMERCIAL UNIT</td>\n",
       "      <td>1603633.60</td>\n",
       "    </tr>\n",
       "    <tr>\n",
       "      <th>28</th>\n",
       "      <td>41 TAX CLASS 4 - OTHER</td>\n",
       "      <td>1441365.14</td>\n",
       "    </tr>\n",
       "    <tr>\n",
       "      <th>29</th>\n",
       "      <td>14 RENTALS - 4-10 UNIT</td>\n",
       "      <td>1418550.73</td>\n",
       "    </tr>\n",
       "    <tr>\n",
       "      <th>30</th>\n",
       "      <td>15 CONDOS - 2-10 UNIT RESIDENTIAL</td>\n",
       "      <td>1175687.52</td>\n",
       "    </tr>\n",
       "    <tr>\n",
       "      <th>31</th>\n",
       "      <td>09 COOPS - WALKUP APARTMENTS</td>\n",
       "      <td>932419.20</td>\n",
       "    </tr>\n",
       "    <tr>\n",
       "      <th>32</th>\n",
       "      <td>44 CONDO PARKING</td>\n",
       "      <td>899122.90</td>\n",
       "    </tr>\n",
       "    <tr>\n",
       "      <th>33</th>\n",
       "      <td>17 CONDO COOPS</td>\n",
       "      <td>836256.01</td>\n",
       "    </tr>\n",
       "    <tr>\n",
       "      <th>34</th>\n",
       "      <td>48 CONDO TERRACES/GARDENS/CABANAS</td>\n",
       "      <td>804082.44</td>\n",
       "    </tr>\n",
       "    <tr>\n",
       "      <th>35</th>\n",
       "      <td>10 COOPS - ELEVATOR APARTMENTS</td>\n",
       "      <td>755320.48</td>\n",
       "    </tr>\n",
       "    <tr>\n",
       "      <th>36</th>\n",
       "      <td>12 CONDOS - WALKUP APARTMENTS</td>\n",
       "      <td>707811.00</td>\n",
       "    </tr>\n",
       "    <tr>\n",
       "      <th>37</th>\n",
       "      <td>49 CONDO WAREHOUSES/FACTORY/INDUS</td>\n",
       "      <td>686637.50</td>\n",
       "    </tr>\n",
       "    <tr>\n",
       "      <th>38</th>\n",
       "      <td>05 TAX CLASS 1 VACANT LAND</td>\n",
       "      <td>661819.36</td>\n",
       "    </tr>\n",
       "    <tr>\n",
       "      <th>39</th>\n",
       "      <td>06 TAX CLASS 1 - OTHER</td>\n",
       "      <td>592982.78</td>\n",
       "    </tr>\n",
       "    <tr>\n",
       "      <th>40</th>\n",
       "      <td>02 TWO FAMILY DWELLINGS</td>\n",
       "      <td>567903.29</td>\n",
       "    </tr>\n",
       "    <tr>\n",
       "      <th>41</th>\n",
       "      <td>03 THREE FAMILY DWELLINGS</td>\n",
       "      <td>546840.78</td>\n",
       "    </tr>\n",
       "    <tr>\n",
       "      <th>42</th>\n",
       "      <td>04 TAX CLASS 1 CONDOS</td>\n",
       "      <td>536320.30</td>\n",
       "    </tr>\n",
       "    <tr>\n",
       "      <th>43</th>\n",
       "      <td>01 ONE FAMILY DWELLINGS</td>\n",
       "      <td>485396.69</td>\n",
       "    </tr>\n",
       "  </tbody>\n",
       "</table>\n",
       "</div>"
      ],
      "text/plain": [
       "                       BUILDING CLASS CATEGORY  SALE PRICE\n",
       "0                 39 TRANSPORTATION FACILITIES 75612500.00\n",
       "1                             25 LUXURY HOTELS 69382731.85\n",
       "2                    43 CONDO OFFICE BUILDINGS 37191931.39\n",
       "3                          21 OFFICE BUILDINGS 23637066.82\n",
       "4                              26 OTHER HOTELS 15984859.67\n",
       "5             08 RENTALS - ELEVATOR APARTMENTS 14663477.77\n",
       "6            32 HOSPITAL AND HEALTH FACILITIES 11946465.07\n",
       "7                              45 CONDO HOTELS 11117388.48\n",
       "8                                30 WAREHOUSES 10408332.83\n",
       "9                    31 COMMERCIAL VACANT LAND  9755168.60\n",
       "10                        28 COMMERCIAL CONDOS  9287834.84\n",
       "11                    46 CONDO STORE BUILDINGS  7126201.03\n",
       "12                   33 EDUCATIONAL FACILITIES  6727327.15\n",
       "13               11 SPECIAL CONDO BILLING LOTS  5418269.93\n",
       "14                           23 LOFT BUILDINGS  5132954.55\n",
       "15                       29 COMMERCIAL GARAGES  5076624.46\n",
       "16                                27 FACTORIES  5035579.83\n",
       "17                          22 STORE BUILDINGS  4909391.52\n",
       "18                     37 RELIGIOUS FACILITIES  3314560.98\n",
       "19          36 OUTDOOR RECREATIONAL FACILITIES  2840199.48\n",
       "20    35 INDOOR PUBLIC AND CULTURAL FACILITIES  2611578.12\n",
       "21                                 34 THEATRES  2011213.91\n",
       "22   42 CONDO CULTURAL/MEDICAL/EDUCATIONAL/ETC  1870830.41\n",
       "23              07 RENTALS - WALKUP APARTMENTS  1854135.47\n",
       "24                        38 ASYLUMS AND HOMES  1780489.89\n",
       "25             13 CONDOS - ELEVATOR APARTMENTS  1699206.18\n",
       "26               47 CONDO NON-BUSINESS STORAGE  1633398.16\n",
       "27  16 CONDOS - 2-10 UNIT WITH COMMERCIAL UNIT  1603633.60\n",
       "28                      41 TAX CLASS 4 - OTHER  1441365.14\n",
       "29                      14 RENTALS - 4-10 UNIT  1418550.73\n",
       "30           15 CONDOS - 2-10 UNIT RESIDENTIAL  1175687.52\n",
       "31                09 COOPS - WALKUP APARTMENTS   932419.20\n",
       "32                            44 CONDO PARKING   899122.90\n",
       "33                              17 CONDO COOPS   836256.01\n",
       "34           48 CONDO TERRACES/GARDENS/CABANAS   804082.44\n",
       "35              10 COOPS - ELEVATOR APARTMENTS   755320.48\n",
       "36               12 CONDOS - WALKUP APARTMENTS   707811.00\n",
       "37           49 CONDO WAREHOUSES/FACTORY/INDUS   686637.50\n",
       "38                  05 TAX CLASS 1 VACANT LAND   661819.36\n",
       "39                      06 TAX CLASS 1 - OTHER   592982.78\n",
       "40                     02 TWO FAMILY DWELLINGS   567903.29\n",
       "41                   03 THREE FAMILY DWELLINGS   546840.78\n",
       "42                       04 TAX CLASS 1 CONDOS   536320.30\n",
       "43                     01 ONE FAMILY DWELLINGS   485396.69"
      ]
     },
     "execution_count": 36,
     "metadata": {},
     "output_type": "execute_result"
    }
   ],
   "source": [
    "avg_building_class = df.groupby(\"BUILDING CLASS CATEGORY\").agg({\"SALE PRICE\":\"mean\"}).sort_values(\"SALE PRICE\", ascending=False).reset_index()\n",
    "#Remove scientific notation and show number in 2 decimal\n",
    "pd.options.display.float_format = '{:.2f}'.format\n",
    "avg_building_class"
   ]
  },
  {
   "cell_type": "code",
   "execution_count": 37,
   "metadata": {},
   "outputs": [
    {
     "data": {
      "text/html": [
       "<div>\n",
       "<style scoped>\n",
       "    .dataframe tbody tr th:only-of-type {\n",
       "        vertical-align: middle;\n",
       "    }\n",
       "\n",
       "    .dataframe tbody tr th {\n",
       "        vertical-align: top;\n",
       "    }\n",
       "\n",
       "    .dataframe thead th {\n",
       "        text-align: right;\n",
       "    }\n",
       "</style>\n",
       "<table border=\"1\" class=\"dataframe\">\n",
       "  <thead>\n",
       "    <tr style=\"text-align: right;\">\n",
       "      <th></th>\n",
       "      <th>BUILDING CLASS CATEGORY</th>\n",
       "      <th>SALE PRICE</th>\n",
       "    </tr>\n",
       "  </thead>\n",
       "  <tbody>\n",
       "    <tr>\n",
       "      <th>0</th>\n",
       "      <td>39 TRANSPORTATION FACILITIES</td>\n",
       "      <td>75612500.00</td>\n",
       "    </tr>\n",
       "    <tr>\n",
       "      <th>1</th>\n",
       "      <td>25 LUXURY HOTELS</td>\n",
       "      <td>69382731.85</td>\n",
       "    </tr>\n",
       "    <tr>\n",
       "      <th>2</th>\n",
       "      <td>43 CONDO OFFICE BUILDINGS</td>\n",
       "      <td>37191931.39</td>\n",
       "    </tr>\n",
       "    <tr>\n",
       "      <th>3</th>\n",
       "      <td>21 OFFICE BUILDINGS</td>\n",
       "      <td>23637066.82</td>\n",
       "    </tr>\n",
       "    <tr>\n",
       "      <th>4</th>\n",
       "      <td>26 OTHER HOTELS</td>\n",
       "      <td>15984859.67</td>\n",
       "    </tr>\n",
       "    <tr>\n",
       "      <th>5</th>\n",
       "      <td>08 RENTALS - ELEVATOR APARTMENTS</td>\n",
       "      <td>14663477.77</td>\n",
       "    </tr>\n",
       "    <tr>\n",
       "      <th>6</th>\n",
       "      <td>32 HOSPITAL AND HEALTH FACILITIES</td>\n",
       "      <td>11946465.07</td>\n",
       "    </tr>\n",
       "    <tr>\n",
       "      <th>7</th>\n",
       "      <td>45 CONDO HOTELS</td>\n",
       "      <td>11117388.48</td>\n",
       "    </tr>\n",
       "    <tr>\n",
       "      <th>8</th>\n",
       "      <td>30 WAREHOUSES</td>\n",
       "      <td>10408332.83</td>\n",
       "    </tr>\n",
       "    <tr>\n",
       "      <th>9</th>\n",
       "      <td>31 COMMERCIAL VACANT LAND</td>\n",
       "      <td>9755168.60</td>\n",
       "    </tr>\n",
       "  </tbody>\n",
       "</table>\n",
       "</div>"
      ],
      "text/plain": [
       "             BUILDING CLASS CATEGORY  SALE PRICE\n",
       "0       39 TRANSPORTATION FACILITIES 75612500.00\n",
       "1                   25 LUXURY HOTELS 69382731.85\n",
       "2          43 CONDO OFFICE BUILDINGS 37191931.39\n",
       "3                21 OFFICE BUILDINGS 23637066.82\n",
       "4                    26 OTHER HOTELS 15984859.67\n",
       "5   08 RENTALS - ELEVATOR APARTMENTS 14663477.77\n",
       "6  32 HOSPITAL AND HEALTH FACILITIES 11946465.07\n",
       "7                    45 CONDO HOTELS 11117388.48\n",
       "8                      30 WAREHOUSES 10408332.83\n",
       "9          31 COMMERCIAL VACANT LAND  9755168.60"
      ]
     },
     "execution_count": 37,
     "metadata": {},
     "output_type": "execute_result"
    }
   ],
   "source": [
    "avg_building_class = avg_building_class.head(10)\n",
    "avg_building_class"
   ]
  },
  {
   "cell_type": "code",
   "execution_count": 85,
   "metadata": {},
   "outputs": [
    {
     "data": {
      "text/plain": [
       "Text(0.5, 1.0, 'Top 10 highest Sale Price by Building Class Category\\n')"
      ]
     },
     "execution_count": 85,
     "metadata": {},
     "output_type": "execute_result"
    },
    {
     "data": {
      "image/png": "[encoded data removed]",
      "text/plain": [
       "<Figure size 864x720 with 1 Axes>"
      ]
     },
     "metadata": {
      "needs_background": "light"
     },
     "output_type": "display_data"
    }
   ],
   "source": [
    "plt.figure(figsize=(12,10))\n",
    "sns.barplot(x=avg_building_class[\"SALE PRICE\"], y=avg_building_class[\"BUILDING CLASS CATEGORY\"],palette = \"icefire\")\n",
    "plt.xlabel(\"Sale Price\")\n",
    "plt.yticks(rotation=30)\n",
    "#Remove the scientific notation\n",
    "plt.gcf().axes[0].xaxis.get_major_formatter().set_scientific(False)\n",
    "plt.title(\"Top 10 highest Sale Price by Building Class Category\\n\")"
   ]
  },
  {
   "cell_type": "code",
   "execution_count": 39,
   "metadata": {},
   "outputs": [
    {
     "data": {
      "text/html": [
       "<div>\n",
       "<style scoped>\n",
       "    .dataframe tbody tr th:only-of-type {\n",
       "        vertical-align: middle;\n",
       "    }\n",
       "\n",
       "    .dataframe tbody tr th {\n",
       "        vertical-align: top;\n",
       "    }\n",
       "\n",
       "    .dataframe thead th {\n",
       "        text-align: right;\n",
       "    }\n",
       "</style>\n",
       "<table border=\"1\" class=\"dataframe\">\n",
       "  <thead>\n",
       "    <tr style=\"text-align: right;\">\n",
       "      <th></th>\n",
       "      <th>BOROUGH</th>\n",
       "      <th>RESIDENTIAL UNITS</th>\n",
       "    </tr>\n",
       "  </thead>\n",
       "  <tbody>\n",
       "    <tr>\n",
       "      <th>0</th>\n",
       "      <td>Brooklyn</td>\n",
       "      <td>45989.00</td>\n",
       "    </tr>\n",
       "    <tr>\n",
       "      <th>1</th>\n",
       "      <td>Queens</td>\n",
       "      <td>36430.00</td>\n",
       "    </tr>\n",
       "    <tr>\n",
       "      <th>2</th>\n",
       "      <td>Manhattan</td>\n",
       "      <td>33245.00</td>\n",
       "    </tr>\n",
       "    <tr>\n",
       "      <th>3</th>\n",
       "      <td>Bronx</td>\n",
       "      <td>19990.00</td>\n",
       "    </tr>\n",
       "    <tr>\n",
       "      <th>4</th>\n",
       "      <td>Staten Island</td>\n",
       "      <td>9885.00</td>\n",
       "    </tr>\n",
       "  </tbody>\n",
       "</table>\n",
       "</div>"
      ],
      "text/plain": [
       "         BOROUGH  RESIDENTIAL UNITS\n",
       "0       Brooklyn           45989.00\n",
       "1         Queens           36430.00\n",
       "2      Manhattan           33245.00\n",
       "3          Bronx           19990.00\n",
       "4  Staten Island            9885.00"
      ]
     },
     "execution_count": 39,
     "metadata": {},
     "output_type": "execute_result"
    }
   ],
   "source": [
    "total_residential = df.groupby(\"BOROUGH\").agg({\"RESIDENTIAL UNITS\":\"sum\"}).sort_values(\"RESIDENTIAL UNITS\", ascending =False).reset_index()\n",
    "total_residential"
   ]
  },
  {
   "cell_type": "code",
   "execution_count": 40,
   "metadata": {},
   "outputs": [
    {
     "data": {
      "image/png": "[encoded data removed]",
      "text/plain": [
       "<Figure size 864x720 with 1 Axes>"
      ]
     },
     "metadata": {
      "needs_background": "light"
     },
     "output_type": "display_data"
    }
   ],
   "source": [
    "plt.figure(figsize=(12,10))\n",
    "sns.barplot(x=total_residential[\"BOROUGH\"], y=total_residential[\"RESIDENTIAL UNITS\"], data = total_residential, ci= None,palette = \"viridis\")\n",
    "plt.xlabel(\"\\nBorough\")\n",
    "plt.ylabel(\"Numbers of Residential Units\\n\")\n",
    "plt.title(\"Total Residential Units Sold by Borough\\n\")\n",
    "#Add coma on the Y-axis\n",
    "plt.gca().yaxis.set_major_formatter(plt.matplotlib.ticker.StrMethodFormatter('{x:,.0f}'))"
   ]
  },
  {
   "cell_type": "code",
   "execution_count": 41,
   "metadata": {},
   "outputs": [
    {
     "data": {
      "text/html": [
       "<div>\n",
       "<style scoped>\n",
       "    .dataframe tbody tr th:only-of-type {\n",
       "        vertical-align: middle;\n",
       "    }\n",
       "\n",
       "    .dataframe tbody tr th {\n",
       "        vertical-align: top;\n",
       "    }\n",
       "\n",
       "    .dataframe thead th {\n",
       "        text-align: right;\n",
       "    }\n",
       "</style>\n",
       "<table border=\"1\" class=\"dataframe\">\n",
       "  <thead>\n",
       "    <tr style=\"text-align: right;\">\n",
       "      <th></th>\n",
       "      <th>BOROUGH</th>\n",
       "      <th>COMMERCIAL UNITS</th>\n",
       "    </tr>\n",
       "  </thead>\n",
       "  <tbody>\n",
       "    <tr>\n",
       "      <th>0</th>\n",
       "      <td>Manhattan</td>\n",
       "      <td>7952.00</td>\n",
       "    </tr>\n",
       "    <tr>\n",
       "      <th>1</th>\n",
       "      <td>Bronx</td>\n",
       "      <td>5343.00</td>\n",
       "    </tr>\n",
       "    <tr>\n",
       "      <th>2</th>\n",
       "      <td>Brooklyn</td>\n",
       "      <td>4187.00</td>\n",
       "    </tr>\n",
       "    <tr>\n",
       "      <th>3</th>\n",
       "      <td>Queens</td>\n",
       "      <td>3643.00</td>\n",
       "    </tr>\n",
       "    <tr>\n",
       "      <th>4</th>\n",
       "      <td>Staten Island</td>\n",
       "      <td>372.00</td>\n",
       "    </tr>\n",
       "  </tbody>\n",
       "</table>\n",
       "</div>"
      ],
      "text/plain": [
       "         BOROUGH  COMMERCIAL UNITS\n",
       "0      Manhattan           7952.00\n",
       "1          Bronx           5343.00\n",
       "2       Brooklyn           4187.00\n",
       "3         Queens           3643.00\n",
       "4  Staten Island            372.00"
      ]
     },
     "execution_count": 41,
     "metadata": {},
     "output_type": "execute_result"
    }
   ],
   "source": [
    "total_commercial = df.groupby(\"BOROUGH\").agg({\"COMMERCIAL UNITS\":\"sum\"}).sort_values(\"COMMERCIAL UNITS\", ascending =False).reset_index()\n",
    "total_commercial"
   ]
  },
  {
   "cell_type": "code",
   "execution_count": 42,
   "metadata": {},
   "outputs": [
    {
     "data": {
      "image/png": "[encoded data removed]",
      "text/plain": [
       "<Figure size 864x720 with 1 Axes>"
      ]
     },
     "metadata": {
      "needs_background": "light"
     },
     "output_type": "display_data"
    }
   ],
   "source": [
    "plt.figure(figsize=(12,10))\n",
    "sns.barplot(x=total_commercial[\"BOROUGH\"], y=total_commercial[\"COMMERCIAL UNITS\"], data = total_commercial, ci= None, palette = \"viridis\")\n",
    "plt.xlabel(\"\\nBorough\")\n",
    "plt.ylabel(\"Numbers of Commercial Units\\n\")\n",
    "plt.title(\"Total Commercial Units Sold by Borough\\n\")\n",
    "#Add coma on the Y-axis\n",
    "plt.gca().yaxis.set_major_formatter(plt.matplotlib.ticker.StrMethodFormatter('{x:,.0f}'))"
   ]
  },
  {
   "cell_type": "code",
   "execution_count": 66,
   "metadata": {},
   "outputs": [
    {
     "data": {
      "text/html": [
       "<div>\n",
       "<style scoped>\n",
       "    .dataframe tbody tr th:only-of-type {\n",
       "        vertical-align: middle;\n",
       "    }\n",
       "\n",
       "    .dataframe tbody tr th {\n",
       "        vertical-align: top;\n",
       "    }\n",
       "\n",
       "    .dataframe thead th {\n",
       "        text-align: right;\n",
       "    }\n",
       "</style>\n",
       "<table border=\"1\" class=\"dataframe\">\n",
       "  <thead>\n",
       "    <tr style=\"text-align: right;\">\n",
       "      <th></th>\n",
       "      <th>NEIGHBORHOOD</th>\n",
       "      <th>SALE PRICE</th>\n",
       "    </tr>\n",
       "  </thead>\n",
       "  <tbody>\n",
       "    <tr>\n",
       "      <th>0</th>\n",
       "      <td>FINANCIAL</td>\n",
       "      <td>30214627.35</td>\n",
       "    </tr>\n",
       "    <tr>\n",
       "      <th>1</th>\n",
       "      <td>BLOOMFIELD</td>\n",
       "      <td>27172803.40</td>\n",
       "    </tr>\n",
       "    <tr>\n",
       "      <th>2</th>\n",
       "      <td>MIDTOWN CBD</td>\n",
       "      <td>21885604.38</td>\n",
       "    </tr>\n",
       "    <tr>\n",
       "      <th>3</th>\n",
       "      <td>FASHION</td>\n",
       "      <td>17542050.56</td>\n",
       "    </tr>\n",
       "    <tr>\n",
       "      <th>4</th>\n",
       "      <td>JAVITS CENTER</td>\n",
       "      <td>15291091.37</td>\n",
       "    </tr>\n",
       "    <tr>\n",
       "      <th>5</th>\n",
       "      <td>GOWANUS</td>\n",
       "      <td>12524019.01</td>\n",
       "    </tr>\n",
       "    <tr>\n",
       "      <th>6</th>\n",
       "      <td>BUSH TERMINAL</td>\n",
       "      <td>9439942.87</td>\n",
       "    </tr>\n",
       "    <tr>\n",
       "      <th>7</th>\n",
       "      <td>NAVY YARD</td>\n",
       "      <td>8411122.67</td>\n",
       "    </tr>\n",
       "    <tr>\n",
       "      <th>8</th>\n",
       "      <td>HARLEM-EAST</td>\n",
       "      <td>6138446.03</td>\n",
       "    </tr>\n",
       "    <tr>\n",
       "      <th>9</th>\n",
       "      <td>MIDTOWN WEST</td>\n",
       "      <td>5267686.23</td>\n",
       "    </tr>\n",
       "  </tbody>\n",
       "</table>\n",
       "</div>"
      ],
      "text/plain": [
       "    NEIGHBORHOOD  SALE PRICE\n",
       "0      FINANCIAL 30214627.35\n",
       "1     BLOOMFIELD 27172803.40\n",
       "2    MIDTOWN CBD 21885604.38\n",
       "3        FASHION 17542050.56\n",
       "4  JAVITS CENTER 15291091.37\n",
       "5        GOWANUS 12524019.01\n",
       "6  BUSH TERMINAL  9439942.87\n",
       "7      NAVY YARD  8411122.67\n",
       "8    HARLEM-EAST  6138446.03\n",
       "9   MIDTOWN WEST  5267686.23"
      ]
     },
     "execution_count": 66,
     "metadata": {},
     "output_type": "execute_result"
    }
   ],
   "source": [
    "neighborhood_avg_high_sale = df.groupby([\"NEIGHBORHOOD\"]).agg({\"SALE PRICE\":\"mean\"}).sort_values(\"SALE PRICE\", ascending = False).reset_index().head(10)\n",
    "neighborhood_avg_high_sale = neighborhood_avg_high_sale[neighborhood_avg_high_sale[\"SALE PRICE\"]>0] \n",
    "neighborhood_avg_high_sale"
   ]
  },
  {
   "cell_type": "code",
   "execution_count": 81,
   "metadata": {},
   "outputs": [
    {
     "data": {
      "image/png": "[encoded data removed]",
      "text/plain": [
       "<Figure size 864x720 with 1 Axes>"
      ]
     },
     "metadata": {
      "needs_background": "light"
     },
     "output_type": "display_data"
    }
   ],
   "source": [
    "plt.figure(figsize=(12,10))\n",
    "sns.barplot(neighborhood_avg_high_sale[\"NEIGHBORHOOD\"],neighborhood_avg_high_sale[\"SALE PRICE\"] )\n",
    "plt.xticks(rotation=75)\n",
    "plt.ylabel(\"Sale Price\\n\")\n",
    "plt.title(\"Highest sold Property by Neighborhood\")\n",
    "#Remove the scientific notation\n",
    "plt.gcf().axes[0].yaxis.get_major_formatter().set_scientific(False)\n",
    "#Add coma on the Y-axis\n",
    "plt.gca().yaxis.set_major_formatter(plt.matplotlib.ticker.StrMethodFormatter('{x:,.0f}'))"
   ]
  },
  {
   "cell_type": "code",
   "execution_count": 73,
   "metadata": {},
   "outputs": [
    {
     "data": {
      "text/html": [
       "<div>\n",
       "<style scoped>\n",
       "    .dataframe tbody tr th:only-of-type {\n",
       "        vertical-align: middle;\n",
       "    }\n",
       "\n",
       "    .dataframe tbody tr th {\n",
       "        vertical-align: top;\n",
       "    }\n",
       "\n",
       "    .dataframe thead th {\n",
       "        text-align: right;\n",
       "    }\n",
       "</style>\n",
       "<table border=\"1\" class=\"dataframe\">\n",
       "  <thead>\n",
       "    <tr style=\"text-align: right;\">\n",
       "      <th></th>\n",
       "      <th>NEIGHBORHOOD</th>\n",
       "      <th>SALE PRICE</th>\n",
       "    </tr>\n",
       "  </thead>\n",
       "  <tbody>\n",
       "    <tr>\n",
       "      <th>3</th>\n",
       "      <td>OAKWOOD-BEACH</td>\n",
       "      <td>151265.02</td>\n",
       "    </tr>\n",
       "    <tr>\n",
       "      <th>4</th>\n",
       "      <td>PARKCHESTER</td>\n",
       "      <td>213712.76</td>\n",
       "    </tr>\n",
       "    <tr>\n",
       "      <th>5</th>\n",
       "      <td>VAN CORTLANDT PARK</td>\n",
       "      <td>223914.29</td>\n",
       "    </tr>\n",
       "    <tr>\n",
       "      <th>6</th>\n",
       "      <td>JAMAICA BAY</td>\n",
       "      <td>230450.39</td>\n",
       "    </tr>\n",
       "    <tr>\n",
       "      <th>7</th>\n",
       "      <td>SOUNDVIEW</td>\n",
       "      <td>233976.90</td>\n",
       "    </tr>\n",
       "    <tr>\n",
       "      <th>8</th>\n",
       "      <td>BROAD CHANNEL</td>\n",
       "      <td>244253.98</td>\n",
       "    </tr>\n",
       "    <tr>\n",
       "      <th>9</th>\n",
       "      <td>PRINCES BAY</td>\n",
       "      <td>279136.38</td>\n",
       "    </tr>\n",
       "    <tr>\n",
       "      <th>10</th>\n",
       "      <td>HAMMELS</td>\n",
       "      <td>289926.35</td>\n",
       "    </tr>\n",
       "    <tr>\n",
       "      <th>11</th>\n",
       "      <td>GREAT KILLS-BAY TERRACE</td>\n",
       "      <td>291896.89</td>\n",
       "    </tr>\n",
       "    <tr>\n",
       "      <th>12</th>\n",
       "      <td>SPRING CREEK</td>\n",
       "      <td>291897.27</td>\n",
       "    </tr>\n",
       "  </tbody>\n",
       "</table>\n",
       "</div>"
      ],
      "text/plain": [
       "               NEIGHBORHOOD  SALE PRICE\n",
       "3             OAKWOOD-BEACH   151265.02\n",
       "4               PARKCHESTER   213712.76\n",
       "5        VAN CORTLANDT PARK   223914.29\n",
       "6               JAMAICA BAY   230450.39\n",
       "7                 SOUNDVIEW   233976.90\n",
       "8             BROAD CHANNEL   244253.98\n",
       "9               PRINCES BAY   279136.38\n",
       "10                  HAMMELS   289926.35\n",
       "11  GREAT KILLS-BAY TERRACE   291896.89\n",
       "12             SPRING CREEK   291897.27"
      ]
     },
     "execution_count": 73,
     "metadata": {},
     "output_type": "execute_result"
    }
   ],
   "source": [
    "neighborhood_avg_low_sale = df.groupby([\"NEIGHBORHOOD\"]).agg({\"SALE PRICE\":\"mean\"}).sort_values(\"SALE PRICE\", ascending = True).reset_index()\n",
    "neighborhood_avg_low_sale =neighborhood_avg_low_sale[neighborhood_avg_low_sale[\"SALE PRICE\"]>0].head(10) \n",
    "neighborhood_avg_low_sale"
   ]
  },
  {
   "cell_type": "code",
   "execution_count": 82,
   "metadata": {},
   "outputs": [
    {
     "data": {
      "image/png": "[encoded data removed]",
      "text/plain": [
       "<Figure size 864x720 with 1 Axes>"
      ]
     },
     "metadata": {
      "needs_background": "light"
     },
     "output_type": "display_data"
    }
   ],
   "source": [
    "plt.figure(figsize=(12,10))\n",
    "sns.barplot(neighborhood_avg_low_sale[\"NEIGHBORHOOD\"],neighborhood_avg_low_sale[\"SALE PRICE\"] )\n",
    "plt.xticks(rotation=75)\n",
    "plt.ylabel(\"Sale Price\\n\")\n",
    "plt.title(\"Lowest sold Property by Neighborhood\")\n",
    "#Remove the scientific notation\n",
    "plt.gcf().axes[0].yaxis.get_major_formatter().set_scientific(False)\n",
    "#Add coma on the Y-axis\n",
    "plt.gca().yaxis.set_major_formatter(plt.matplotlib.ticker.StrMethodFormatter('{x:,.0f}'))"
   ]
  },
  {
   "cell_type": "code",
   "execution_count": 69,
   "metadata": {},
   "outputs": [
    {
     "data": {
      "text/html": [
       "<div>\n",
       "<style scoped>\n",
       "    .dataframe tbody tr th:only-of-type {\n",
       "        vertical-align: middle;\n",
       "    }\n",
       "\n",
       "    .dataframe tbody tr th {\n",
       "        vertical-align: top;\n",
       "    }\n",
       "\n",
       "    .dataframe thead th {\n",
       "        text-align: right;\n",
       "    }\n",
       "</style>\n",
       "<table border=\"1\" class=\"dataframe\">\n",
       "  <thead>\n",
       "    <tr style=\"text-align: right;\">\n",
       "      <th></th>\n",
       "      <th>BOROUGH</th>\n",
       "      <th>count</th>\n",
       "    </tr>\n",
       "  </thead>\n",
       "  <tbody>\n",
       "    <tr>\n",
       "      <th>3</th>\n",
       "      <td>Queens</td>\n",
       "      <td>26395</td>\n",
       "    </tr>\n",
       "    <tr>\n",
       "      <th>1</th>\n",
       "      <td>Brooklyn</td>\n",
       "      <td>23252</td>\n",
       "    </tr>\n",
       "    <tr>\n",
       "      <th>2</th>\n",
       "      <td>Manhattan</td>\n",
       "      <td>17558</td>\n",
       "    </tr>\n",
       "    <tr>\n",
       "      <th>4</th>\n",
       "      <td>Staten Island</td>\n",
       "      <td>8363</td>\n",
       "    </tr>\n",
       "    <tr>\n",
       "      <th>0</th>\n",
       "      <td>Bronx</td>\n",
       "      <td>8266</td>\n",
       "    </tr>\n",
       "  </tbody>\n",
       "</table>\n",
       "</div>"
      ],
      "text/plain": [
       "         BOROUGH  count\n",
       "3         Queens  26395\n",
       "1       Brooklyn  23252\n",
       "2      Manhattan  17558\n",
       "4  Staten Island   8363\n",
       "0          Bronx   8266"
      ]
     },
     "execution_count": 69,
     "metadata": {},
     "output_type": "execute_result"
    }
   ],
   "source": [
    "sales_by_borough = df[[\"BOROUGH\",\"SALE PRICE\"]].groupby(by=\"BOROUGH\").count().reset_index()\n",
    "sales_by_borough = sales_by_borough.rename(columns = {\"SALE PRICE\":\"count\"}).sort_values(\"count\", ascending=False)\n",
    "sales_by_borough"
   ]
  },
  {
   "cell_type": "code",
   "execution_count": 70,
   "metadata": {},
   "outputs": [
    {
     "data": {
      "application/vnd.plotly.v1+json": {
       "config": {
        "plotlyServerURL": "https://plot.ly"
       },
       "data": [
        {
         "domain": {
          "x": [
           0,
           1
          ],
          "y": [
           0,
           1
          ]
         },
         "hovertemplate": "BOROUGH=%{label}<br>count=%{value}<extra></extra>",
         "labels": [
          "Queens",
          "Brooklyn",
          "Manhattan",
          "Staten Island",
          "Bronx"
         ],
         "legendgroup": "",
         "name": "",
         "showlegend": true,
         "type": "pie",
         "values": [
          26395,
          23252,
          17558,
          8363,
          8266
         ]
        }
       ],
       "layout": {
        "legend": {
         "tracegroupgap": 0
        },
        "template": {
         "data": {
          "bar": [
           {
            "error_x": {
             "color": "#2a3f5f"
            },
            "error_y": {
             "color": "#2a3f5f"
            },
            "marker": {
             "line": {
              "color": "#E5ECF6",
              "width": 0.5
             }
            },
            "type": "bar"
           }
          ],
          "barpolar": [
           {
            "marker": {
             "line": {
              "color": "#E5ECF6",
              "width": 0.5
             }
            },
            "type": "barpolar"
           }
          ],
          "carpet": [
           {
            "aaxis": {
             "endlinecolor": "#2a3f5f",
             "gridcolor": "white",
             "linecolor": "white",
             "minorgridcolor": "white",
             "startlinecolor": "#2a3f5f"
            },
            "baxis": {
             "endlinecolor": "#2a3f5f",
             "gridcolor": "white",
             "linecolor": "white",
             "minorgridcolor": "white",
             "startlinecolor": "#2a3f5f"
            },
            "type": "carpet"
           }
          ],
          "choropleth": [
           {
            "colorbar": {
             "outlinewidth": 0,
             "ticks": ""
            },
            "type": "choropleth"
           }
          ],
          "contour": [
           {
            "colorbar": {
             "outlinewidth": 0,
             "ticks": ""
            },
            "colorscale": [
             [
              0,
              "#0d0887"
             ],
             [
              0.1111111111111111,
              "#46039f"
             ],
             [
              0.2222222222222222,
              "#7201a8"
             ],
             [
              0.3333333333333333,
              "#9c179e"
             ],
             [
              0.4444444444444444,
              "#bd3786"
             ],
             [
              0.5555555555555556,
              "#d8576b"
             ],
             [
              0.6666666666666666,
              "#ed7953"
             ],
             [
              0.7777777777777778,
              "#fb9f3a"
             ],
             [
              0.8888888888888888,
              "#fdca26"
             ],
             [
              1,
              "#f0f921"
             ]
            ],
            "type": "contour"
           }
          ],
          "contourcarpet": [
           {
            "colorbar": {
             "outlinewidth": 0,
             "ticks": ""
            },
            "type": "contourcarpet"
           }
          ],
          "heatmap": [
           {
            "colorbar": {
             "outlinewidth": 0,
             "ticks": ""
            },
            "colorscale": [
             [
              0,
              "#0d0887"
             ],
             [
              0.1111111111111111,
              "#46039f"
             ],
             [
              0.2222222222222222,
              "#7201a8"
             ],
             [
              0.3333333333333333,
              "#9c179e"
             ],
             [
              0.4444444444444444,
              "#bd3786"
             ],
             [
              0.5555555555555556,
              "#d8576b"
             ],
             [
              0.6666666666666666,
              "#ed7953"
             ],
             [
              0.7777777777777778,
              "#fb9f3a"
             ],
             [
              0.8888888888888888,
              "#fdca26"
             ],
             [
              1,
              "#f0f921"
             ]
            ],
            "type": "heatmap"
           }
          ],
          "heatmapgl": [
           {
            "colorbar": {
             "outlinewidth": 0,
             "ticks": ""
            },
            "colorscale": [
             [
              0,
              "#0d0887"
             ],
             [
              0.1111111111111111,
              "#46039f"
             ],
             [
              0.2222222222222222,
              "#7201a8"
             ],
             [
              0.3333333333333333,
              "#9c179e"
             ],
             [
              0.4444444444444444,
              "#bd3786"
             ],
             [
              0.5555555555555556,
              "#d8576b"
             ],
             [
              0.6666666666666666,
              "#ed7953"
             ],
             [
              0.7777777777777778,
              "#fb9f3a"
             ],
             [
              0.8888888888888888,
              "#fdca26"
             ],
             [
              1,
              "#f0f921"
             ]
            ],
            "type": "heatmapgl"
           }
          ],
          "histogram": [
           {
            "marker": {
             "colorbar": {
              "outlinewidth": 0,
              "ticks": ""
             }
            },
            "type": "histogram"
           }
          ],
          "histogram2d": [
           {
            "colorbar": {
             "outlinewidth": 0,
             "ticks": ""
            },
            "colorscale": [
             [
              0,
              "#0d0887"
             ],
             [
              0.1111111111111111,
              "#46039f"
             ],
             [
              0.2222222222222222,
              "#7201a8"
             ],
             [
              0.3333333333333333,
              "#9c179e"
             ],
             [
              0.4444444444444444,
              "#bd3786"
             ],
             [
              0.5555555555555556,
              "#d8576b"
             ],
             [
              0.6666666666666666,
              "#ed7953"
             ],
             [
              0.7777777777777778,
              "#fb9f3a"
             ],
             [
              0.8888888888888888,
              "#fdca26"
             ],
             [
              1,
              "#f0f921"
             ]
            ],
            "type": "histogram2d"
           }
          ],
          "histogram2dcontour": [
           {
            "colorbar": {
             "outlinewidth": 0,
             "ticks": ""
            },
            "colorscale": [
             [
              0,
              "#0d0887"
             ],
             [
              0.1111111111111111,
              "#46039f"
             ],
             [
              0.2222222222222222,
              "#7201a8"
             ],
             [
              0.3333333333333333,
              "#9c179e"
             ],
             [
              0.4444444444444444,
              "#bd3786"
             ],
             [
              0.5555555555555556,
              "#d8576b"
             ],
             [
              0.6666666666666666,
              "#ed7953"
             ],
             [
              0.7777777777777778,
              "#fb9f3a"
             ],
             [
              0.8888888888888888,
              "#fdca26"
             ],
             [
              1,
              "#f0f921"
             ]
            ],
            "type": "histogram2dcontour"
           }
          ],
          "mesh3d": [
           {
            "colorbar": {
             "outlinewidth": 0,
             "ticks": ""
            },
            "type": "mesh3d"
           }
          ],
          "parcoords": [
           {
            "line": {
             "colorbar": {
              "outlinewidth": 0,
              "ticks": ""
             }
            },
            "type": "parcoords"
           }
          ],
          "pie": [
           {
            "automargin": true,
            "type": "pie"
           }
          ],
          "scatter": [
           {
            "marker": {
             "colorbar": {
              "outlinewidth": 0,
              "ticks": ""
             }
            },
            "type": "scatter"
           }
          ],
          "scatter3d": [
           {
            "line": {
             "colorbar": {
              "outlinewidth": 0,
              "ticks": ""
             }
            },
            "marker": {
             "colorbar": {
              "outlinewidth": 0,
              "ticks": ""
             }
            },
            "type": "scatter3d"
           }
          ],
          "scattercarpet": [
           {
            "marker": {
             "colorbar": {
              "outlinewidth": 0,
              "ticks": ""
             }
            },
            "type": "scattercarpet"
           }
          ],
          "scattergeo": [
           {
            "marker": {
             "colorbar": {
              "outlinewidth": 0,
              "ticks": ""
             }
            },
            "type": "scattergeo"
           }
          ],
          "scattergl": [
           {
            "marker": {
             "colorbar": {
              "outlinewidth": 0,
              "ticks": ""
             }
            },
            "type": "scattergl"
           }
          ],
          "scattermapbox": [
           {
            "marker": {
             "colorbar": {
              "outlinewidth": 0,
              "ticks": ""
             }
            },
            "type": "scattermapbox"
           }
          ],
          "scatterpolar": [
           {
            "marker": {
             "colorbar": {
              "outlinewidth": 0,
              "ticks": ""
             }
            },
            "type": "scatterpolar"
           }
          ],
          "scatterpolargl": [
           {
            "marker": {
             "colorbar": {
              "outlinewidth": 0,
              "ticks": ""
             }
            },
            "type": "scatterpolargl"
           }
          ],
          "scatterternary": [
           {
            "marker": {
             "colorbar": {
              "outlinewidth": 0,
              "ticks": ""
             }
            },
            "type": "scatterternary"
           }
          ],
          "surface": [
           {
            "colorbar": {
             "outlinewidth": 0,
             "ticks": ""
            },
            "colorscale": [
             [
              0,
              "#0d0887"
             ],
             [
              0.1111111111111111,
              "#46039f"
             ],
             [
              0.2222222222222222,
              "#7201a8"
             ],
             [
              0.3333333333333333,
              "#9c179e"
             ],
             [
              0.4444444444444444,
              "#bd3786"
             ],
             [
              0.5555555555555556,
              "#d8576b"
             ],
             [
              0.6666666666666666,
              "#ed7953"
             ],
             [
              0.7777777777777778,
              "#fb9f3a"
             ],
             [
              0.8888888888888888,
              "#fdca26"
             ],
             [
              1,
              "#f0f921"
             ]
            ],
            "type": "surface"
           }
          ],
          "table": [
           {
            "cells": {
             "fill": {
              "color": "#EBF0F8"
             },
             "line": {
              "color": "white"
             }
            },
            "header": {
             "fill": {
              "color": "#C8D4E3"
             },
             "line": {
              "color": "white"
             }
            },
            "type": "table"
           }
          ]
         },
         "layout": {
          "annotationdefaults": {
           "arrowcolor": "#2a3f5f",
           "arrowhead": 0,
           "arrowwidth": 1
          },
          "autotypenumbers": "strict",
          "coloraxis": {
           "colorbar": {
            "outlinewidth": 0,
            "ticks": ""
           }
          },
          "colorscale": {
           "diverging": [
            [
             0,
             "#8e0152"
            ],
            [
             0.1,
             "#c51b7d"
            ],
            [
             0.2,
             "#de77ae"
            ],
            [
             0.3,
             "#f1b6da"
            ],
            [
             0.4,
             "#fde0ef"
            ],
            [
             0.5,
             "#f7f7f7"
            ],
            [
             0.6,
             "#e6f5d0"
            ],
            [
             0.7,
             "#b8e186"
            ],
            [
             0.8,
             "#7fbc41"
            ],
            [
             0.9,
             "#4d9221"
            ],
            [
             1,
             "#276419"
            ]
           ],
           "sequential": [
            [
             0,
             "#0d0887"
            ],
            [
             0.1111111111111111,
             "#46039f"
            ],
            [
             0.2222222222222222,
             "#7201a8"
            ],
            [
             0.3333333333333333,
             "#9c179e"
            ],
            [
             0.4444444444444444,
             "#bd3786"
            ],
            [
             0.5555555555555556,
             "#d8576b"
            ],
            [
             0.6666666666666666,
             "#ed7953"
            ],
            [
             0.7777777777777778,
             "#fb9f3a"
            ],
            [
             0.8888888888888888,
             "#fdca26"
            ],
            [
             1,
             "#f0f921"
            ]
           ],
           "sequentialminus": [
            [
             0,
             "#0d0887"
            ],
            [
             0.1111111111111111,
             "#46039f"
            ],
            [
             0.2222222222222222,
             "#7201a8"
            ],
            [
             0.3333333333333333,
             "#9c179e"
            ],
            [
             0.4444444444444444,
             "#bd3786"
            ],
            [
             0.5555555555555556,
             "#d8576b"
            ],
            [
             0.6666666666666666,
             "#ed7953"
            ],
            [
             0.7777777777777778,
             "#fb9f3a"
            ],
            [
             0.8888888888888888,
             "#fdca26"
            ],
            [
             1,
             "#f0f921"
            ]
           ]
          },
          "colorway": [
           "#636efa",
           "#EF553B",
           "#00cc96",
           "#ab63fa",
           "#FFA15A",
           "#19d3f3",
           "#FF6692",
           "#B6E880",
           "#FF97FF",
           "#FECB52"
          ],
          "font": {
           "color": "#2a3f5f"
          },
          "geo": {
           "bgcolor": "white",
           "lakecolor": "white",
           "landcolor": "#E5ECF6",
           "showlakes": true,
           "showland": true,
           "subunitcolor": "white"
          },
          "hoverlabel": {
           "align": "left"
          },
          "hovermode": "closest",
          "mapbox": {
           "style": "light"
          },
          "paper_bgcolor": "white",
          "plot_bgcolor": "#E5ECF6",
          "polar": {
           "angularaxis": {
            "gridcolor": "white",
            "linecolor": "white",
            "ticks": ""
           },
           "bgcolor": "#E5ECF6",
           "radialaxis": {
            "gridcolor": "white",
            "linecolor": "white",
            "ticks": ""
           }
          },
          "scene": {
           "xaxis": {
            "backgroundcolor": "#E5ECF6",
            "gridcolor": "white",
            "gridwidth": 2,
            "linecolor": "white",
            "showbackground": true,
            "ticks": "",
            "zerolinecolor": "white"
           },
           "yaxis": {
            "backgroundcolor": "#E5ECF6",
            "gridcolor": "white",
            "gridwidth": 2,
            "linecolor": "white",
            "showbackground": true,
            "ticks": "",
            "zerolinecolor": "white"
           },
           "zaxis": {
            "backgroundcolor": "#E5ECF6",
            "gridcolor": "white",
            "gridwidth": 2,
            "linecolor": "white",
            "showbackground": true,
            "ticks": "",
            "zerolinecolor": "white"
           }
          },
          "shapedefaults": {
           "line": {
            "color": "#2a3f5f"
           }
          },
          "ternary": {
           "aaxis": {
            "gridcolor": "white",
            "linecolor": "white",
            "ticks": ""
           },
           "baxis": {
            "gridcolor": "white",
            "linecolor": "white",
            "ticks": ""
           },
           "bgcolor": "#E5ECF6",
           "caxis": {
            "gridcolor": "white",
            "linecolor": "white",
            "ticks": ""
           }
          },
          "title": {
           "x": 0.05
          },
          "xaxis": {
           "automargin": true,
           "gridcolor": "white",
           "linecolor": "white",
           "ticks": "",
           "title": {
            "standoff": 15
           },
           "zerolinecolor": "white",
           "zerolinewidth": 2
          },
          "yaxis": {
           "automargin": true,
           "gridcolor": "white",
           "linecolor": "white",
           "ticks": "",
           "title": {
            "standoff": 15
           },
           "zerolinecolor": "white",
           "zerolinewidth": 2
          }
         }
        },
        "title": {
         "text": "Percentage of Building sold by Borough"
        }
       }
      },
      "text/html": [
       "<div>                            <div id=\"b738e220-66ad-4244-a701-54e480c3c1f4\" class=\"plotly-graph-div\" style=\"height:525px; width:100%;\"></div>            <script type=\"text/javascript\">                require([\"plotly\"], function(Plotly) {                    window.PLOTLYENV=window.PLOTLYENV || {};                                    if (document.getElementById(\"b738e220-66ad-4244-a701-54e480c3c1f4\")) {                    Plotly.newPlot(                        \"b738e220-66ad-4244-a701-54e480c3c1f4\",                        [{\"domain\": {\"x\": [0.0, 1.0], \"y\": [0.0, 1.0]}, \"hovertemplate\": \"BOROUGH=%{label}<br>count=%{value}<extra></extra>\", \"labels\": [\"Queens\", \"Brooklyn\", \"Manhattan\", \"Staten Island\", \"Bronx\"], \"legendgroup\": \"\", \"name\": \"\", \"showlegend\": true, \"type\": \"pie\", \"values\": [26395, 23252, 17558, 8363, 8266]}],                        {\"legend\": {\"tracegroupgap\": 0}, \"template\": {\"data\": {\"bar\": [{\"error_x\": {\"color\": \"#2a3f5f\"}, \"error_y\": {\"color\": \"#2a3f5f\"}, \"marker\": {\"line\": {\"color\": \"#E5ECF6\", \"width\": 0.5}}, \"type\": \"bar\"}], \"barpolar\": [{\"marker\": {\"line\": {\"color\": \"#E5ECF6\", \"width\": 0.5}}, \"type\": \"barpolar\"}], \"carpet\": [{\"aaxis\": {\"endlinecolor\": \"#2a3f5f\", \"gridcolor\": \"white\", \"linecolor\": \"white\", \"minorgridcolor\": \"white\", \"startlinecolor\": \"#2a3f5f\"}, \"baxis\": {\"endlinecolor\": \"#2a3f5f\", \"gridcolor\": \"white\", \"linecolor\": \"white\", \"minorgridcolor\": \"white\", \"startlinecolor\": \"#2a3f5f\"}, \"type\": \"carpet\"}], \"choropleth\": [{\"colorbar\": {\"outlinewidth\": 0, \"ticks\": \"\"}, \"type\": \"choropleth\"}], \"contour\": [{\"colorbar\": {\"outlinewidth\": 0, \"ticks\": \"\"}, \"colorscale\": [[0.0, \"#0d0887\"], [0.1111111111111111, \"#46039f\"], [0.2222222222222222, \"#7201a8\"], [0.3333333333333333, \"#9c179e\"], [0.4444444444444444, \"#bd3786\"], [0.5555555555555556, \"#d8576b\"], [0.6666666666666666, \"#ed7953\"], [0.7777777777777778, \"#fb9f3a\"], [0.8888888888888888, \"#fdca26\"], [1.0, \"#f0f921\"]], \"type\": \"contour\"}], \"contourcarpet\": [{\"colorbar\": {\"outlinewidth\": 0, \"ticks\": \"\"}, \"type\": \"contourcarpet\"}], \"heatmap\": [{\"colorbar\": {\"outlinewidth\": 0, \"ticks\": \"\"}, \"colorscale\": [[0.0, \"#0d0887\"], [0.1111111111111111, \"#46039f\"], [0.2222222222222222, \"#7201a8\"], [0.3333333333333333, \"#9c179e\"], [0.4444444444444444, \"#bd3786\"], [0.5555555555555556, \"#d8576b\"], [0.6666666666666666, \"#ed7953\"], [0.7777777777777778, \"#fb9f3a\"], [0.8888888888888888, \"#fdca26\"], [1.0, \"#f0f921\"]], \"type\": \"heatmap\"}], \"heatmapgl\": [{\"colorbar\": {\"outlinewidth\": 0, \"ticks\": \"\"}, \"colorscale\": [[0.0, \"#0d0887\"], [0.1111111111111111, \"#46039f\"], [0.2222222222222222, \"#7201a8\"], [0.3333333333333333, \"#9c179e\"], [0.4444444444444444, \"#bd3786\"], [0.5555555555555556, \"#d8576b\"], [0.6666666666666666, \"#ed7953\"], [0.7777777777777778, \"#fb9f3a\"], [0.8888888888888888, \"#fdca26\"], [1.0, \"#f0f921\"]], \"type\": \"heatmapgl\"}], \"histogram\": [{\"marker\": {\"colorbar\": {\"outlinewidth\": 0, \"ticks\": \"\"}}, \"type\": \"histogram\"}], \"histogram2d\": [{\"colorbar\": {\"outlinewidth\": 0, \"ticks\": \"\"}, \"colorscale\": [[0.0, \"#0d0887\"], [0.1111111111111111, \"#46039f\"], [0.2222222222222222, \"#7201a8\"], [0.3333333333333333, \"#9c179e\"], [0.4444444444444444, \"#bd3786\"], [0.5555555555555556, \"#d8576b\"], [0.6666666666666666, \"#ed7953\"], [0.7777777777777778, \"#fb9f3a\"], [0.8888888888888888, \"#fdca26\"], [1.0, \"#f0f921\"]], \"type\": \"histogram2d\"}], \"histogram2dcontour\": [{\"colorbar\": {\"outlinewidth\": 0, \"ticks\": \"\"}, \"colorscale\": [[0.0, \"#0d0887\"], [0.1111111111111111, \"#46039f\"], [0.2222222222222222, \"#7201a8\"], [0.3333333333333333, \"#9c179e\"], [0.4444444444444444, \"#bd3786\"], [0.5555555555555556, \"#d8576b\"], [0.6666666666666666, \"#ed7953\"], [0.7777777777777778, \"#fb9f3a\"], [0.8888888888888888, \"#fdca26\"], [1.0, \"#f0f921\"]], \"type\": \"histogram2dcontour\"}], \"mesh3d\": [{\"colorbar\": {\"outlinewidth\": 0, \"ticks\": \"\"}, \"type\": \"mesh3d\"}], \"parcoords\": [{\"line\": {\"colorbar\": {\"outlinewidth\": 0, \"ticks\": \"\"}}, \"type\": \"parcoords\"}], \"pie\": [{\"automargin\": true, \"type\": \"pie\"}], \"scatter\": [{\"marker\": {\"colorbar\": {\"outlinewidth\": 0, \"ticks\": \"\"}}, \"type\": \"scatter\"}], \"scatter3d\": [{\"line\": {\"colorbar\": {\"outlinewidth\": 0, \"ticks\": \"\"}}, \"marker\": {\"colorbar\": {\"outlinewidth\": 0, \"ticks\": \"\"}}, \"type\": \"scatter3d\"}], \"scattercarpet\": [{\"marker\": {\"colorbar\": {\"outlinewidth\": 0, \"ticks\": \"\"}}, \"type\": \"scattercarpet\"}], \"scattergeo\": [{\"marker\": {\"colorbar\": {\"outlinewidth\": 0, \"ticks\": \"\"}}, \"type\": \"scattergeo\"}], \"scattergl\": [{\"marker\": {\"colorbar\": {\"outlinewidth\": 0, \"ticks\": \"\"}}, \"type\": \"scattergl\"}], \"scattermapbox\": [{\"marker\": {\"colorbar\": {\"outlinewidth\": 0, \"ticks\": \"\"}}, \"type\": \"scattermapbox\"}], \"scatterpolar\": [{\"marker\": {\"colorbar\": {\"outlinewidth\": 0, \"ticks\": \"\"}}, \"type\": \"scatterpolar\"}], \"scatterpolargl\": [{\"marker\": {\"colorbar\": {\"outlinewidth\": 0, \"ticks\": \"\"}}, \"type\": \"scatterpolargl\"}], \"scatterternary\": [{\"marker\": {\"colorbar\": {\"outlinewidth\": 0, \"ticks\": \"\"}}, \"type\": \"scatterternary\"}], \"surface\": [{\"colorbar\": {\"outlinewidth\": 0, \"ticks\": \"\"}, \"colorscale\": [[0.0, \"#0d0887\"], [0.1111111111111111, \"#46039f\"], [0.2222222222222222, \"#7201a8\"], [0.3333333333333333, \"#9c179e\"], [0.4444444444444444, \"#bd3786\"], [0.5555555555555556, \"#d8576b\"], [0.6666666666666666, \"#ed7953\"], [0.7777777777777778, \"#fb9f3a\"], [0.8888888888888888, \"#fdca26\"], [1.0, \"#f0f921\"]], \"type\": \"surface\"}], \"table\": [{\"cells\": {\"fill\": {\"color\": \"#EBF0F8\"}, \"line\": {\"color\": \"white\"}}, \"header\": {\"fill\": {\"color\": \"#C8D4E3\"}, \"line\": {\"color\": \"white\"}}, \"type\": \"table\"}]}, \"layout\": {\"annotationdefaults\": {\"arrowcolor\": \"#2a3f5f\", \"arrowhead\": 0, \"arrowwidth\": 1}, \"autotypenumbers\": \"strict\", \"coloraxis\": {\"colorbar\": {\"outlinewidth\": 0, \"ticks\": \"\"}}, \"colorscale\": {\"diverging\": [[0, \"#8e0152\"], [0.1, \"#c51b7d\"], [0.2, \"#de77ae\"], [0.3, \"#f1b6da\"], [0.4, \"#fde0ef\"], [0.5, \"#f7f7f7\"], [0.6, \"#e6f5d0\"], [0.7, \"#b8e186\"], [0.8, \"#7fbc41\"], [0.9, \"#4d9221\"], [1, \"#276419\"]], \"sequential\": [[0.0, \"#0d0887\"], [0.1111111111111111, \"#46039f\"], [0.2222222222222222, \"#7201a8\"], [0.3333333333333333, \"#9c179e\"], [0.4444444444444444, \"#bd3786\"], [0.5555555555555556, \"#d8576b\"], [0.6666666666666666, \"#ed7953\"], [0.7777777777777778, \"#fb9f3a\"], [0.8888888888888888, \"#fdca26\"], [1.0, \"#f0f921\"]], \"sequentialminus\": [[0.0, \"#0d0887\"], [0.1111111111111111, \"#46039f\"], [0.2222222222222222, \"#7201a8\"], [0.3333333333333333, \"#9c179e\"], [0.4444444444444444, \"#bd3786\"], [0.5555555555555556, \"#d8576b\"], [0.6666666666666666, \"#ed7953\"], [0.7777777777777778, \"#fb9f3a\"], [0.8888888888888888, \"#fdca26\"], [1.0, \"#f0f921\"]]}, \"colorway\": [\"#636efa\", \"#EF553B\", \"#00cc96\", \"#ab63fa\", \"#FFA15A\", \"#19d3f3\", \"#FF6692\", \"#B6E880\", \"#FF97FF\", \"#FECB52\"], \"font\": {\"color\": \"#2a3f5f\"}, \"geo\": {\"bgcolor\": \"white\", \"lakecolor\": \"white\", \"landcolor\": \"#E5ECF6\", \"showlakes\": true, \"showland\": true, \"subunitcolor\": \"white\"}, \"hoverlabel\": {\"align\": \"left\"}, \"hovermode\": \"closest\", \"mapbox\": {\"style\": \"light\"}, \"paper_bgcolor\": \"white\", \"plot_bgcolor\": \"#E5ECF6\", \"polar\": {\"angularaxis\": {\"gridcolor\": \"white\", \"linecolor\": \"white\", \"ticks\": \"\"}, \"bgcolor\": \"#E5ECF6\", \"radialaxis\": {\"gridcolor\": \"white\", \"linecolor\": \"white\", \"ticks\": \"\"}}, \"scene\": {\"xaxis\": {\"backgroundcolor\": \"#E5ECF6\", \"gridcolor\": \"white\", \"gridwidth\": 2, \"linecolor\": \"white\", \"showbackground\": true, \"ticks\": \"\", \"zerolinecolor\": \"white\"}, \"yaxis\": {\"backgroundcolor\": \"#E5ECF6\", \"gridcolor\": \"white\", \"gridwidth\": 2, \"linecolor\": \"white\", \"showbackground\": true, \"ticks\": \"\", \"zerolinecolor\": \"white\"}, \"zaxis\": {\"backgroundcolor\": \"#E5ECF6\", \"gridcolor\": \"white\", \"gridwidth\": 2, \"linecolor\": \"white\", \"showbackground\": true, \"ticks\": \"\", \"zerolinecolor\": \"white\"}}, \"shapedefaults\": {\"line\": {\"color\": \"#2a3f5f\"}}, \"ternary\": {\"aaxis\": {\"gridcolor\": \"white\", \"linecolor\": \"white\", \"ticks\": \"\"}, \"baxis\": {\"gridcolor\": \"white\", \"linecolor\": \"white\", \"ticks\": \"\"}, \"bgcolor\": \"#E5ECF6\", \"caxis\": {\"gridcolor\": \"white\", \"linecolor\": \"white\", \"ticks\": \"\"}}, \"title\": {\"x\": 0.05}, \"xaxis\": {\"automargin\": true, \"gridcolor\": \"white\", \"linecolor\": \"white\", \"ticks\": \"\", \"title\": {\"standoff\": 15}, \"zerolinecolor\": \"white\", \"zerolinewidth\": 2}, \"yaxis\": {\"automargin\": true, \"gridcolor\": \"white\", \"linecolor\": \"white\", \"ticks\": \"\", \"title\": {\"standoff\": 15}, \"zerolinecolor\": \"white\", \"zerolinewidth\": 2}}}, \"title\": {\"text\": \"Percentage of Building sold by Borough\"}},                        {\"responsive\": true}                    ).then(function(){\n",
       "                            \n",
       "var gd = document.getElementById('b738e220-66ad-4244-a701-54e480c3c1f4');\n",
       "var x = new MutationObserver(function (mutations, observer) {{\n",
       "        var display = window.getComputedStyle(gd).display;\n",
       "        if (!display || display === 'none') {{\n",
       "            console.log([gd, 'removed!']);\n",
       "            Plotly.purge(gd);\n",
       "            observer.disconnect();\n",
       "        }}\n",
       "}});\n",
       "\n",
       "// Listen for the removal of the full notebook cells\n",
       "var notebookContainer = gd.closest('#notebook-container');\n",
       "if (notebookContainer) {{\n",
       "    x.observe(notebookContainer, {childList: true});\n",
       "}}\n",
       "\n",
       "// Listen for the clearing of the current output cell\n",
       "var outputEl = gd.closest('.output');\n",
       "if (outputEl) {{\n",
       "    x.observe(outputEl, {childList: true});\n",
       "}}\n",
       "\n",
       "                        })                };                });            </script>        </div>"
      ]
     },
     "metadata": {},
     "output_type": "display_data"
    }
   ],
   "source": [
    "import plotly.express as px\n",
    "fig = px.pie(sales_by_borough, values=sales_by_borough[\"count\"], names=sales_by_borough[\"BOROUGH\"], title= \"Percentage of Building sold by Borough\")\n",
    "fig.show()"
   ]
  },
  {
   "cell_type": "code",
   "execution_count": null,
   "metadata": {},
   "outputs": [],
   "source": []
  }
 ],
 "metadata": {
  "kernelspec": {
   "display_name": "Python 3",
   "language": "python",
   "name": "python3"
  },
  "language_info": {
   "codemirror_mode": {
    "name": "ipython",
    "version": 3
   },
   "file_extension": ".py",
   "mimetype": "text/x-python",
   "name": "python",
   "nbconvert_exporter": "python",
   "pygments_lexer": "ipython3",
   "version": "3.8.3"
  }
 },
 "nbformat": 4,
 "nbformat_minor": 4
}
